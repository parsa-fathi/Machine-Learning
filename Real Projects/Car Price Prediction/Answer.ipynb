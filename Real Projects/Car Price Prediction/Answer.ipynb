{
 "cells": [
  {
   "cell_type": "code",
   "source": [
    "import pandas as pd\n",
    "import numpy as np\n",
    "import matplotlib.pyplot as plt\n",
    "import seaborn as sns\n",
    "import warnings"
   ],
   "metadata": {
    "collapsed": false,
    "pycharm": {
     "name": "#%%\n"
    }
   },
   "execution_count": 2,
   "outputs": []
  },
  {
   "cell_type": "code",
   "execution_count": 3,
   "outputs": [],
   "source": [
    "warnings.simplefilter ( action = \"ignore\" )\n",
    "plt.style.use ( \"seaborn\" )"
   ],
   "metadata": {
    "collapsed": false,
    "pycharm": {
     "name": "#%%\n"
    }
   }
  },
  {
   "cell_type": "code",
   "execution_count": 4,
   "outputs": [
    {
     "data": {
      "text/plain": "    Car_Name  Year  Selling_Price  Present_Price  Kms_Driven Fuel_Type  \\\n0       ritz  2014           3.35           5.59       27000    Petrol   \n1        sx4  2013           4.75           9.54       43000    Diesel   \n2       ciaz  2017           7.25           9.85        6900    Petrol   \n3    wagon r  2011           2.85           4.15        5200    Petrol   \n4      swift  2014           4.60           6.87       42450    Diesel   \n..       ...   ...            ...            ...         ...       ...   \n296     city  2016           9.50          11.60       33988    Diesel   \n297     brio  2015           4.00           5.90       60000    Petrol   \n298     city  2009           3.35          11.00       87934    Petrol   \n299     city  2017          11.50          12.50        9000    Diesel   \n300     brio  2016           5.30           5.90        5464    Petrol   \n\n    Seller_Type Transmission  Owner  \n0        Dealer       Manual      0  \n1        Dealer       Manual      0  \n2        Dealer       Manual      0  \n3        Dealer       Manual      0  \n4        Dealer       Manual      0  \n..          ...          ...    ...  \n296      Dealer       Manual      0  \n297      Dealer       Manual      0  \n298      Dealer       Manual      0  \n299      Dealer       Manual      0  \n300      Dealer       Manual      0  \n\n[301 rows x 9 columns]",
      "text/html": "<div>\n<style scoped>\n    .dataframe tbody tr th:only-of-type {\n        vertical-align: middle;\n    }\n\n    .dataframe tbody tr th {\n        vertical-align: top;\n    }\n\n    .dataframe thead th {\n        text-align: right;\n    }\n</style>\n<table border=\"1\" class=\"dataframe\">\n  <thead>\n    <tr style=\"text-align: right;\">\n      <th></th>\n      <th>Car_Name</th>\n      <th>Year</th>\n      <th>Selling_Price</th>\n      <th>Present_Price</th>\n      <th>Kms_Driven</th>\n      <th>Fuel_Type</th>\n      <th>Seller_Type</th>\n      <th>Transmission</th>\n      <th>Owner</th>\n    </tr>\n  </thead>\n  <tbody>\n    <tr>\n      <th>0</th>\n      <td>ritz</td>\n      <td>2014</td>\n      <td>3.35</td>\n      <td>5.59</td>\n      <td>27000</td>\n      <td>Petrol</td>\n      <td>Dealer</td>\n      <td>Manual</td>\n      <td>0</td>\n    </tr>\n    <tr>\n      <th>1</th>\n      <td>sx4</td>\n      <td>2013</td>\n      <td>4.75</td>\n      <td>9.54</td>\n      <td>43000</td>\n      <td>Diesel</td>\n      <td>Dealer</td>\n      <td>Manual</td>\n      <td>0</td>\n    </tr>\n    <tr>\n      <th>2</th>\n      <td>ciaz</td>\n      <td>2017</td>\n      <td>7.25</td>\n      <td>9.85</td>\n      <td>6900</td>\n      <td>Petrol</td>\n      <td>Dealer</td>\n      <td>Manual</td>\n      <td>0</td>\n    </tr>\n    <tr>\n      <th>3</th>\n      <td>wagon r</td>\n      <td>2011</td>\n      <td>2.85</td>\n      <td>4.15</td>\n      <td>5200</td>\n      <td>Petrol</td>\n      <td>Dealer</td>\n      <td>Manual</td>\n      <td>0</td>\n    </tr>\n    <tr>\n      <th>4</th>\n      <td>swift</td>\n      <td>2014</td>\n      <td>4.60</td>\n      <td>6.87</td>\n      <td>42450</td>\n      <td>Diesel</td>\n      <td>Dealer</td>\n      <td>Manual</td>\n      <td>0</td>\n    </tr>\n    <tr>\n      <th>...</th>\n      <td>...</td>\n      <td>...</td>\n      <td>...</td>\n      <td>...</td>\n      <td>...</td>\n      <td>...</td>\n      <td>...</td>\n      <td>...</td>\n      <td>...</td>\n    </tr>\n    <tr>\n      <th>296</th>\n      <td>city</td>\n      <td>2016</td>\n      <td>9.50</td>\n      <td>11.60</td>\n      <td>33988</td>\n      <td>Diesel</td>\n      <td>Dealer</td>\n      <td>Manual</td>\n      <td>0</td>\n    </tr>\n    <tr>\n      <th>297</th>\n      <td>brio</td>\n      <td>2015</td>\n      <td>4.00</td>\n      <td>5.90</td>\n      <td>60000</td>\n      <td>Petrol</td>\n      <td>Dealer</td>\n      <td>Manual</td>\n      <td>0</td>\n    </tr>\n    <tr>\n      <th>298</th>\n      <td>city</td>\n      <td>2009</td>\n      <td>3.35</td>\n      <td>11.00</td>\n      <td>87934</td>\n      <td>Petrol</td>\n      <td>Dealer</td>\n      <td>Manual</td>\n      <td>0</td>\n    </tr>\n    <tr>\n      <th>299</th>\n      <td>city</td>\n      <td>2017</td>\n      <td>11.50</td>\n      <td>12.50</td>\n      <td>9000</td>\n      <td>Diesel</td>\n      <td>Dealer</td>\n      <td>Manual</td>\n      <td>0</td>\n    </tr>\n    <tr>\n      <th>300</th>\n      <td>brio</td>\n      <td>2016</td>\n      <td>5.30</td>\n      <td>5.90</td>\n      <td>5464</td>\n      <td>Petrol</td>\n      <td>Dealer</td>\n      <td>Manual</td>\n      <td>0</td>\n    </tr>\n  </tbody>\n</table>\n<p>301 rows × 9 columns</p>\n</div>"
     },
     "execution_count": 4,
     "metadata": {},
     "output_type": "execute_result"
    }
   ],
   "source": [
    "data = pd.read_csv ( \"cardata.csv\" )\n",
    "data"
   ],
   "metadata": {
    "collapsed": false,
    "pycharm": {
     "name": "#%%\n"
    }
   }
  },
  {
   "cell_type": "code",
   "execution_count": 5,
   "outputs": [
    {
     "data": {
      "text/plain": "        Car_Name  Year  Selling_Price  Present_Price  Kms_Driven Fuel_Type  \\\n0           ritz  2014           3.35           5.59       27000    Petrol   \n1            sx4  2013           4.75           9.54       43000    Diesel   \n2           ciaz  2017           7.25           9.85        6900    Petrol   \n3        wagon r  2011           2.85           4.15        5200    Petrol   \n4          swift  2014           4.60           6.87       42450    Diesel   \n5  vitara brezza  2018           9.25           9.83        2071    Diesel   \n6           ciaz  2015           6.75           8.12       18796    Petrol   \n7        s cross  2015           6.50           8.61       33429    Diesel   \n8           ciaz  2016           8.75           8.89       20273    Diesel   \n9           ciaz  2015           7.45           8.92       42367    Diesel   \n\n  Seller_Type Transmission  Owner  \n0      Dealer       Manual      0  \n1      Dealer       Manual      0  \n2      Dealer       Manual      0  \n3      Dealer       Manual      0  \n4      Dealer       Manual      0  \n5      Dealer       Manual      0  \n6      Dealer       Manual      0  \n7      Dealer       Manual      0  \n8      Dealer       Manual      0  \n9      Dealer       Manual      0  ",
      "text/html": "<div>\n<style scoped>\n    .dataframe tbody tr th:only-of-type {\n        vertical-align: middle;\n    }\n\n    .dataframe tbody tr th {\n        vertical-align: top;\n    }\n\n    .dataframe thead th {\n        text-align: right;\n    }\n</style>\n<table border=\"1\" class=\"dataframe\">\n  <thead>\n    <tr style=\"text-align: right;\">\n      <th></th>\n      <th>Car_Name</th>\n      <th>Year</th>\n      <th>Selling_Price</th>\n      <th>Present_Price</th>\n      <th>Kms_Driven</th>\n      <th>Fuel_Type</th>\n      <th>Seller_Type</th>\n      <th>Transmission</th>\n      <th>Owner</th>\n    </tr>\n  </thead>\n  <tbody>\n    <tr>\n      <th>0</th>\n      <td>ritz</td>\n      <td>2014</td>\n      <td>3.35</td>\n      <td>5.59</td>\n      <td>27000</td>\n      <td>Petrol</td>\n      <td>Dealer</td>\n      <td>Manual</td>\n      <td>0</td>\n    </tr>\n    <tr>\n      <th>1</th>\n      <td>sx4</td>\n      <td>2013</td>\n      <td>4.75</td>\n      <td>9.54</td>\n      <td>43000</td>\n      <td>Diesel</td>\n      <td>Dealer</td>\n      <td>Manual</td>\n      <td>0</td>\n    </tr>\n    <tr>\n      <th>2</th>\n      <td>ciaz</td>\n      <td>2017</td>\n      <td>7.25</td>\n      <td>9.85</td>\n      <td>6900</td>\n      <td>Petrol</td>\n      <td>Dealer</td>\n      <td>Manual</td>\n      <td>0</td>\n    </tr>\n    <tr>\n      <th>3</th>\n      <td>wagon r</td>\n      <td>2011</td>\n      <td>2.85</td>\n      <td>4.15</td>\n      <td>5200</td>\n      <td>Petrol</td>\n      <td>Dealer</td>\n      <td>Manual</td>\n      <td>0</td>\n    </tr>\n    <tr>\n      <th>4</th>\n      <td>swift</td>\n      <td>2014</td>\n      <td>4.60</td>\n      <td>6.87</td>\n      <td>42450</td>\n      <td>Diesel</td>\n      <td>Dealer</td>\n      <td>Manual</td>\n      <td>0</td>\n    </tr>\n    <tr>\n      <th>5</th>\n      <td>vitara brezza</td>\n      <td>2018</td>\n      <td>9.25</td>\n      <td>9.83</td>\n      <td>2071</td>\n      <td>Diesel</td>\n      <td>Dealer</td>\n      <td>Manual</td>\n      <td>0</td>\n    </tr>\n    <tr>\n      <th>6</th>\n      <td>ciaz</td>\n      <td>2015</td>\n      <td>6.75</td>\n      <td>8.12</td>\n      <td>18796</td>\n      <td>Petrol</td>\n      <td>Dealer</td>\n      <td>Manual</td>\n      <td>0</td>\n    </tr>\n    <tr>\n      <th>7</th>\n      <td>s cross</td>\n      <td>2015</td>\n      <td>6.50</td>\n      <td>8.61</td>\n      <td>33429</td>\n      <td>Diesel</td>\n      <td>Dealer</td>\n      <td>Manual</td>\n      <td>0</td>\n    </tr>\n    <tr>\n      <th>8</th>\n      <td>ciaz</td>\n      <td>2016</td>\n      <td>8.75</td>\n      <td>8.89</td>\n      <td>20273</td>\n      <td>Diesel</td>\n      <td>Dealer</td>\n      <td>Manual</td>\n      <td>0</td>\n    </tr>\n    <tr>\n      <th>9</th>\n      <td>ciaz</td>\n      <td>2015</td>\n      <td>7.45</td>\n      <td>8.92</td>\n      <td>42367</td>\n      <td>Diesel</td>\n      <td>Dealer</td>\n      <td>Manual</td>\n      <td>0</td>\n    </tr>\n  </tbody>\n</table>\n</div>"
     },
     "execution_count": 5,
     "metadata": {},
     "output_type": "execute_result"
    }
   ],
   "source": [
    "data.head ( 10 )"
   ],
   "metadata": {
    "collapsed": false,
    "pycharm": {
     "name": "#%%\n"
    }
   }
  },
  {
   "cell_type": "code",
   "execution_count": 6,
   "outputs": [
    {
     "data": {
      "text/plain": "(301, 9)"
     },
     "execution_count": 6,
     "metadata": {},
     "output_type": "execute_result"
    }
   ],
   "source": [
    "data.shape"
   ],
   "metadata": {
    "collapsed": false,
    "pycharm": {
     "name": "#%%\n"
    }
   }
  },
  {
   "cell_type": "code",
   "execution_count": 7,
   "outputs": [
    {
     "name": "stdout",
     "output_type": "stream",
     "text": [
      "<class 'pandas.core.frame.DataFrame'>\n",
      "RangeIndex: 301 entries, 0 to 300\n",
      "Data columns (total 9 columns):\n",
      " #   Column         Non-Null Count  Dtype  \n",
      "---  ------         --------------  -----  \n",
      " 0   Car_Name       301 non-null    object \n",
      " 1   Year           301 non-null    int64  \n",
      " 2   Selling_Price  301 non-null    float64\n",
      " 3   Present_Price  301 non-null    float64\n",
      " 4   Kms_Driven     301 non-null    int64  \n",
      " 5   Fuel_Type      301 non-null    object \n",
      " 6   Seller_Type    301 non-null    object \n",
      " 7   Transmission   301 non-null    object \n",
      " 8   Owner          301 non-null    int64  \n",
      "dtypes: float64(2), int64(3), object(4)\n",
      "memory usage: 21.3+ KB\n"
     ]
    }
   ],
   "source": [
    "data.info ()"
   ],
   "metadata": {
    "collapsed": false,
    "pycharm": {
     "name": "#%%\n"
    }
   }
  },
  {
   "cell_type": "code",
   "execution_count": 8,
   "outputs": [
    {
     "data": {
      "text/plain": "              Year  Selling_Price  Present_Price     Kms_Driven       Owner\ncount   301.000000     301.000000     301.000000     301.000000  301.000000\nmean   2013.627907       4.661296       7.628472   36947.205980    0.043189\nstd       2.891554       5.082812       8.644115   38886.883882    0.247915\nmin    2003.000000       0.100000       0.320000     500.000000    0.000000\n25%    2012.000000       0.900000       1.200000   15000.000000    0.000000\n50%    2014.000000       3.600000       6.400000   32000.000000    0.000000\n75%    2016.000000       6.000000       9.900000   48767.000000    0.000000\nmax    2018.000000      35.000000      92.600000  500000.000000    3.000000",
      "text/html": "<div>\n<style scoped>\n    .dataframe tbody tr th:only-of-type {\n        vertical-align: middle;\n    }\n\n    .dataframe tbody tr th {\n        vertical-align: top;\n    }\n\n    .dataframe thead th {\n        text-align: right;\n    }\n</style>\n<table border=\"1\" class=\"dataframe\">\n  <thead>\n    <tr style=\"text-align: right;\">\n      <th></th>\n      <th>Year</th>\n      <th>Selling_Price</th>\n      <th>Present_Price</th>\n      <th>Kms_Driven</th>\n      <th>Owner</th>\n    </tr>\n  </thead>\n  <tbody>\n    <tr>\n      <th>count</th>\n      <td>301.000000</td>\n      <td>301.000000</td>\n      <td>301.000000</td>\n      <td>301.000000</td>\n      <td>301.000000</td>\n    </tr>\n    <tr>\n      <th>mean</th>\n      <td>2013.627907</td>\n      <td>4.661296</td>\n      <td>7.628472</td>\n      <td>36947.205980</td>\n      <td>0.043189</td>\n    </tr>\n    <tr>\n      <th>std</th>\n      <td>2.891554</td>\n      <td>5.082812</td>\n      <td>8.644115</td>\n      <td>38886.883882</td>\n      <td>0.247915</td>\n    </tr>\n    <tr>\n      <th>min</th>\n      <td>2003.000000</td>\n      <td>0.100000</td>\n      <td>0.320000</td>\n      <td>500.000000</td>\n      <td>0.000000</td>\n    </tr>\n    <tr>\n      <th>25%</th>\n      <td>2012.000000</td>\n      <td>0.900000</td>\n      <td>1.200000</td>\n      <td>15000.000000</td>\n      <td>0.000000</td>\n    </tr>\n    <tr>\n      <th>50%</th>\n      <td>2014.000000</td>\n      <td>3.600000</td>\n      <td>6.400000</td>\n      <td>32000.000000</td>\n      <td>0.000000</td>\n    </tr>\n    <tr>\n      <th>75%</th>\n      <td>2016.000000</td>\n      <td>6.000000</td>\n      <td>9.900000</td>\n      <td>48767.000000</td>\n      <td>0.000000</td>\n    </tr>\n    <tr>\n      <th>max</th>\n      <td>2018.000000</td>\n      <td>35.000000</td>\n      <td>92.600000</td>\n      <td>500000.000000</td>\n      <td>3.000000</td>\n    </tr>\n  </tbody>\n</table>\n</div>"
     },
     "execution_count": 8,
     "metadata": {},
     "output_type": "execute_result"
    }
   ],
   "source": [
    "data.describe ()"
   ],
   "metadata": {
    "collapsed": false,
    "pycharm": {
     "name": "#%%\n"
    }
   }
  },
  {
   "cell_type": "code",
   "execution_count": 9,
   "outputs": [
    {
     "data": {
      "text/plain": "Car_Name         0\nYear             0\nSelling_Price    0\nPresent_Price    0\nKms_Driven       0\nFuel_Type        0\nSeller_Type      0\nTransmission     0\nOwner            0\ndtype: int64"
     },
     "execution_count": 9,
     "metadata": {},
     "output_type": "execute_result"
    }
   ],
   "source": [
    "#Missing Values\n",
    "data.isna ().sum ()"
   ],
   "metadata": {
    "collapsed": false,
    "pycharm": {
     "name": "#%%\n"
    }
   }
  },
  {
   "cell_type": "code",
   "execution_count": 10,
   "outputs": [
    {
     "data": {
      "text/plain": "0      2014\n1      2013\n2      2017\n3      2011\n4      2014\n       ... \n296    2016\n297    2015\n298    2009\n299    2017\n300    2016\nName: Year, Length: 301, dtype: int64"
     },
     "execution_count": 10,
     "metadata": {},
     "output_type": "execute_result"
    }
   ],
   "source": [
    "data [ \"Year\" ]"
   ],
   "metadata": {
    "collapsed": false,
    "pycharm": {
     "name": "#%%\n"
    }
   }
  },
  {
   "cell_type": "code",
   "execution_count": 11,
   "outputs": [
    {
     "data": {
      "text/plain": "2018"
     },
     "execution_count": 11,
     "metadata": {},
     "output_type": "execute_result"
    }
   ],
   "source": [
    "np.max ( data [ \"Year\" ] )"
   ],
   "metadata": {
    "collapsed": false,
    "pycharm": {
     "name": "#%%\n"
    }
   }
  },
  {
   "cell_type": "code",
   "execution_count": 12,
   "outputs": [],
   "source": [
    "data [ \"Age\" ] = 2019 - data [ \"Year\" ]\n",
    "data.drop ( \"Year\", axis = 1, inplace = True )"
   ],
   "metadata": {
    "collapsed": false,
    "pycharm": {
     "name": "#%%\n"
    }
   }
  },
  {
   "cell_type": "code",
   "execution_count": 13,
   "outputs": [
    {
     "data": {
      "text/plain": "    Car_Name  Selling_Price  Present_Price  Kms_Driven Fuel_Type Seller_Type  \\\n0       ritz           3.35           5.59       27000    Petrol      Dealer   \n1        sx4           4.75           9.54       43000    Diesel      Dealer   \n2       ciaz           7.25           9.85        6900    Petrol      Dealer   \n3    wagon r           2.85           4.15        5200    Petrol      Dealer   \n4      swift           4.60           6.87       42450    Diesel      Dealer   \n..       ...            ...            ...         ...       ...         ...   \n296     city           9.50          11.60       33988    Diesel      Dealer   \n297     brio           4.00           5.90       60000    Petrol      Dealer   \n298     city           3.35          11.00       87934    Petrol      Dealer   \n299     city          11.50          12.50        9000    Diesel      Dealer   \n300     brio           5.30           5.90        5464    Petrol      Dealer   \n\n    Transmission  Owner  Age  \n0         Manual      0    5  \n1         Manual      0    6  \n2         Manual      0    2  \n3         Manual      0    8  \n4         Manual      0    5  \n..           ...    ...  ...  \n296       Manual      0    3  \n297       Manual      0    4  \n298       Manual      0   10  \n299       Manual      0    2  \n300       Manual      0    3  \n\n[301 rows x 9 columns]",
      "text/html": "<div>\n<style scoped>\n    .dataframe tbody tr th:only-of-type {\n        vertical-align: middle;\n    }\n\n    .dataframe tbody tr th {\n        vertical-align: top;\n    }\n\n    .dataframe thead th {\n        text-align: right;\n    }\n</style>\n<table border=\"1\" class=\"dataframe\">\n  <thead>\n    <tr style=\"text-align: right;\">\n      <th></th>\n      <th>Car_Name</th>\n      <th>Selling_Price</th>\n      <th>Present_Price</th>\n      <th>Kms_Driven</th>\n      <th>Fuel_Type</th>\n      <th>Seller_Type</th>\n      <th>Transmission</th>\n      <th>Owner</th>\n      <th>Age</th>\n    </tr>\n  </thead>\n  <tbody>\n    <tr>\n      <th>0</th>\n      <td>ritz</td>\n      <td>3.35</td>\n      <td>5.59</td>\n      <td>27000</td>\n      <td>Petrol</td>\n      <td>Dealer</td>\n      <td>Manual</td>\n      <td>0</td>\n      <td>5</td>\n    </tr>\n    <tr>\n      <th>1</th>\n      <td>sx4</td>\n      <td>4.75</td>\n      <td>9.54</td>\n      <td>43000</td>\n      <td>Diesel</td>\n      <td>Dealer</td>\n      <td>Manual</td>\n      <td>0</td>\n      <td>6</td>\n    </tr>\n    <tr>\n      <th>2</th>\n      <td>ciaz</td>\n      <td>7.25</td>\n      <td>9.85</td>\n      <td>6900</td>\n      <td>Petrol</td>\n      <td>Dealer</td>\n      <td>Manual</td>\n      <td>0</td>\n      <td>2</td>\n    </tr>\n    <tr>\n      <th>3</th>\n      <td>wagon r</td>\n      <td>2.85</td>\n      <td>4.15</td>\n      <td>5200</td>\n      <td>Petrol</td>\n      <td>Dealer</td>\n      <td>Manual</td>\n      <td>0</td>\n      <td>8</td>\n    </tr>\n    <tr>\n      <th>4</th>\n      <td>swift</td>\n      <td>4.60</td>\n      <td>6.87</td>\n      <td>42450</td>\n      <td>Diesel</td>\n      <td>Dealer</td>\n      <td>Manual</td>\n      <td>0</td>\n      <td>5</td>\n    </tr>\n    <tr>\n      <th>...</th>\n      <td>...</td>\n      <td>...</td>\n      <td>...</td>\n      <td>...</td>\n      <td>...</td>\n      <td>...</td>\n      <td>...</td>\n      <td>...</td>\n      <td>...</td>\n    </tr>\n    <tr>\n      <th>296</th>\n      <td>city</td>\n      <td>9.50</td>\n      <td>11.60</td>\n      <td>33988</td>\n      <td>Diesel</td>\n      <td>Dealer</td>\n      <td>Manual</td>\n      <td>0</td>\n      <td>3</td>\n    </tr>\n    <tr>\n      <th>297</th>\n      <td>brio</td>\n      <td>4.00</td>\n      <td>5.90</td>\n      <td>60000</td>\n      <td>Petrol</td>\n      <td>Dealer</td>\n      <td>Manual</td>\n      <td>0</td>\n      <td>4</td>\n    </tr>\n    <tr>\n      <th>298</th>\n      <td>city</td>\n      <td>3.35</td>\n      <td>11.00</td>\n      <td>87934</td>\n      <td>Petrol</td>\n      <td>Dealer</td>\n      <td>Manual</td>\n      <td>0</td>\n      <td>10</td>\n    </tr>\n    <tr>\n      <th>299</th>\n      <td>city</td>\n      <td>11.50</td>\n      <td>12.50</td>\n      <td>9000</td>\n      <td>Diesel</td>\n      <td>Dealer</td>\n      <td>Manual</td>\n      <td>0</td>\n      <td>2</td>\n    </tr>\n    <tr>\n      <th>300</th>\n      <td>brio</td>\n      <td>5.30</td>\n      <td>5.90</td>\n      <td>5464</td>\n      <td>Petrol</td>\n      <td>Dealer</td>\n      <td>Manual</td>\n      <td>0</td>\n      <td>3</td>\n    </tr>\n  </tbody>\n</table>\n<p>301 rows × 9 columns</p>\n</div>"
     },
     "execution_count": 13,
     "metadata": {},
     "output_type": "execute_result"
    }
   ],
   "source": [
    "data"
   ],
   "metadata": {
    "collapsed": false,
    "pycharm": {
     "name": "#%%\n"
    }
   }
  },
  {
   "cell_type": "code",
   "execution_count": 14,
   "outputs": [
    {
     "data": {
      "text/plain": "<Figure size 720x288 with 2 Axes>",
      "image/png": "[encoded data removed]"
     },
     "metadata": {},
     "output_type": "display_data"
    },
    {
     "data": {
      "text/plain": "<Figure size 720x288 with 2 Axes>",
      "image/png": "[encoded data removed]"
     },
     "metadata": {},
     "output_type": "display_data"
    }
   ],
   "source": [
    "Categorical = [ \"Fuel_Type\", \"Seller_Type\", \"Transmission\", \"Owner\" ]\n",
    "i = 0\n",
    "while i < 4 :\n",
    "    fig = plt.figure ( figsize = (10, 4) )\n",
    "    plt.subplot ( 1, 2, 1 )\n",
    "    sns.countplot ( x = Categorical [ i ], data = data )\n",
    "    i += 1\n",
    "    plt.subplot ( 1, 2, 2 )\n",
    "    sns.countplot ( x = Categorical [ i ], data = data )\n",
    "    i += 1\n",
    "plt.show ()"
   ],
   "metadata": {
    "collapsed": false,
    "pycharm": {
     "name": "#%%\n"
    }
   }
  },
  {
   "cell_type": "code",
   "execution_count": 15,
   "outputs": [
    {
     "data": {
      "text/plain": "<Figure size 1080x360 with 2 Axes>",
      "image/png": "[encoded data removed]"
     },
     "metadata": {},
     "output_type": "display_data"
    },
    {
     "data": {
      "text/plain": "<Figure size 1080x360 with 2 Axes>",
      "image/png": "[encoded data removed]"
     },
     "metadata": {},
     "output_type": "display_data"
    }
   ],
   "source": [
    "Numerical = [ \"Selling_Price\", \"Present_Price\", \"Kms_Driven\", \"Age\" ]\n",
    "i = 0\n",
    "while i < 4 :\n",
    "    fig = plt.figure ( figsize = (15, 5) )\n",
    "    plt.subplot ( 1, 2, 1 )\n",
    "    sns.boxplot ( x = Numerical [ i ], data = data )\n",
    "    i += 1\n",
    "    plt.subplot ( 1, 2, 2 )\n",
    "    sns.boxplot ( x = Numerical [ i ], data = data )\n",
    "    i += 1\n",
    "    plt.show ()"
   ],
   "metadata": {
    "collapsed": false,
    "pycharm": {
     "name": "#%%\n"
    }
   }
  },
  {
   "cell_type": "code",
   "execution_count": 16,
   "outputs": [
    {
     "data": {
      "text/plain": "               Selling_Price  Present_Price  Kms_Driven     Owner       Age\nSelling_Price       1.000000       0.878983    0.029187 -0.088344 -0.236141\nPresent_Price       0.878983       1.000000    0.203647  0.008057  0.047584\nKms_Driven          0.029187       0.203647    1.000000  0.089216  0.524342\nOwner              -0.088344       0.008057    0.089216  1.000000  0.182104\nAge                -0.236141       0.047584    0.524342  0.182104  1.000000",
      "text/html": "<div>\n<style scoped>\n    .dataframe tbody tr th:only-of-type {\n        vertical-align: middle;\n    }\n\n    .dataframe tbody tr th {\n        vertical-align: top;\n    }\n\n    .dataframe thead th {\n        text-align: right;\n    }\n</style>\n<table border=\"1\" class=\"dataframe\">\n  <thead>\n    <tr style=\"text-align: right;\">\n      <th></th>\n      <th>Selling_Price</th>\n      <th>Present_Price</th>\n      <th>Kms_Driven</th>\n      <th>Owner</th>\n      <th>Age</th>\n    </tr>\n  </thead>\n  <tbody>\n    <tr>\n      <th>Selling_Price</th>\n      <td>1.000000</td>\n      <td>0.878983</td>\n      <td>0.029187</td>\n      <td>-0.088344</td>\n      <td>-0.236141</td>\n    </tr>\n    <tr>\n      <th>Present_Price</th>\n      <td>0.878983</td>\n      <td>1.000000</td>\n      <td>0.203647</td>\n      <td>0.008057</td>\n      <td>0.047584</td>\n    </tr>\n    <tr>\n      <th>Kms_Driven</th>\n      <td>0.029187</td>\n      <td>0.203647</td>\n      <td>1.000000</td>\n      <td>0.089216</td>\n      <td>0.524342</td>\n    </tr>\n    <tr>\n      <th>Owner</th>\n      <td>-0.088344</td>\n      <td>0.008057</td>\n      <td>0.089216</td>\n      <td>1.000000</td>\n      <td>0.182104</td>\n    </tr>\n    <tr>\n      <th>Age</th>\n      <td>-0.236141</td>\n      <td>0.047584</td>\n      <td>0.524342</td>\n      <td>0.182104</td>\n      <td>1.000000</td>\n    </tr>\n  </tbody>\n</table>\n</div>"
     },
     "execution_count": 16,
     "metadata": {},
     "output_type": "execute_result"
    }
   ],
   "source": [
    "data.corr ()"
   ],
   "metadata": {
    "collapsed": false,
    "pycharm": {
     "name": "#%%\n"
    }
   }
  },
  {
   "cell_type": "code",
   "execution_count": 17,
   "outputs": [
    {
     "name": "stdout",
     "output_type": "stream",
     "text": [
      "['Petrol' 'Diesel' 'CNG']\n",
      "['Dealer' 'Individual']\n",
      "['Manual' 'Automatic']\n",
      "[0 1 3]\n"
     ]
    }
   ],
   "source": [
    "print ( pd.unique ( data.Fuel_Type ) )\n",
    "print ( pd.unique ( data.Seller_Type ) )\n",
    "print ( pd.unique ( data.Transmission ) )\n",
    "print ( pd.unique ( data.Owner ) )"
   ],
   "metadata": {
    "collapsed": false,
    "pycharm": {
     "name": "#%%\n"
    }
   }
  },
  {
   "cell_type": "code",
   "execution_count": 18,
   "outputs": [
    {
     "data": {
      "text/plain": "    Car_Name  Selling_Price  Present_Price  Kms_Driven  Fuel_Type  \\\n0       ritz           3.35           5.59       27000          2   \n1        sx4           4.75           9.54       43000          3   \n2       ciaz           7.25           9.85        6900          2   \n3    wagon r           2.85           4.15        5200          2   \n4      swift           4.60           6.87       42450          3   \n..       ...            ...            ...         ...        ...   \n296     city           9.50          11.60       33988          3   \n297     brio           4.00           5.90       60000          2   \n298     city           3.35          11.00       87934          2   \n299     city          11.50          12.50        9000          3   \n300     brio           5.30           5.90        5464          2   \n\n     Seller_Type  Transmission  Owner  Age  \n0              2             2      0    5  \n1              2             2      0    6  \n2              2             2      0    2  \n3              2             2      0    8  \n4              2             2      0    5  \n..           ...           ...    ...  ...  \n296            2             2      0    3  \n297            2             2      0    4  \n298            2             2      0   10  \n299            2             2      0    2  \n300            2             2      0    3  \n\n[301 rows x 9 columns]",
      "text/html": "<div>\n<style scoped>\n    .dataframe tbody tr th:only-of-type {\n        vertical-align: middle;\n    }\n\n    .dataframe tbody tr th {\n        vertical-align: top;\n    }\n\n    .dataframe thead th {\n        text-align: right;\n    }\n</style>\n<table border=\"1\" class=\"dataframe\">\n  <thead>\n    <tr style=\"text-align: right;\">\n      <th></th>\n      <th>Car_Name</th>\n      <th>Selling_Price</th>\n      <th>Present_Price</th>\n      <th>Kms_Driven</th>\n      <th>Fuel_Type</th>\n      <th>Seller_Type</th>\n      <th>Transmission</th>\n      <th>Owner</th>\n      <th>Age</th>\n    </tr>\n  </thead>\n  <tbody>\n    <tr>\n      <th>0</th>\n      <td>ritz</td>\n      <td>3.35</td>\n      <td>5.59</td>\n      <td>27000</td>\n      <td>2</td>\n      <td>2</td>\n      <td>2</td>\n      <td>0</td>\n      <td>5</td>\n    </tr>\n    <tr>\n      <th>1</th>\n      <td>sx4</td>\n      <td>4.75</td>\n      <td>9.54</td>\n      <td>43000</td>\n      <td>3</td>\n      <td>2</td>\n      <td>2</td>\n      <td>0</td>\n      <td>6</td>\n    </tr>\n    <tr>\n      <th>2</th>\n      <td>ciaz</td>\n      <td>7.25</td>\n      <td>9.85</td>\n      <td>6900</td>\n      <td>2</td>\n      <td>2</td>\n      <td>2</td>\n      <td>0</td>\n      <td>2</td>\n    </tr>\n    <tr>\n      <th>3</th>\n      <td>wagon r</td>\n      <td>2.85</td>\n      <td>4.15</td>\n      <td>5200</td>\n      <td>2</td>\n      <td>2</td>\n      <td>2</td>\n      <td>0</td>\n      <td>8</td>\n    </tr>\n    <tr>\n      <th>4</th>\n      <td>swift</td>\n      <td>4.60</td>\n      <td>6.87</td>\n      <td>42450</td>\n      <td>3</td>\n      <td>2</td>\n      <td>2</td>\n      <td>0</td>\n      <td>5</td>\n    </tr>\n    <tr>\n      <th>...</th>\n      <td>...</td>\n      <td>...</td>\n      <td>...</td>\n      <td>...</td>\n      <td>...</td>\n      <td>...</td>\n      <td>...</td>\n      <td>...</td>\n      <td>...</td>\n    </tr>\n    <tr>\n      <th>296</th>\n      <td>city</td>\n      <td>9.50</td>\n      <td>11.60</td>\n      <td>33988</td>\n      <td>3</td>\n      <td>2</td>\n      <td>2</td>\n      <td>0</td>\n      <td>3</td>\n    </tr>\n    <tr>\n      <th>297</th>\n      <td>brio</td>\n      <td>4.00</td>\n      <td>5.90</td>\n      <td>60000</td>\n      <td>2</td>\n      <td>2</td>\n      <td>2</td>\n      <td>0</td>\n      <td>4</td>\n    </tr>\n    <tr>\n      <th>298</th>\n      <td>city</td>\n      <td>3.35</td>\n      <td>11.00</td>\n      <td>87934</td>\n      <td>2</td>\n      <td>2</td>\n      <td>2</td>\n      <td>0</td>\n      <td>10</td>\n    </tr>\n    <tr>\n      <th>299</th>\n      <td>city</td>\n      <td>11.50</td>\n      <td>12.50</td>\n      <td>9000</td>\n      <td>3</td>\n      <td>2</td>\n      <td>2</td>\n      <td>0</td>\n      <td>2</td>\n    </tr>\n    <tr>\n      <th>300</th>\n      <td>brio</td>\n      <td>5.30</td>\n      <td>5.90</td>\n      <td>5464</td>\n      <td>2</td>\n      <td>2</td>\n      <td>2</td>\n      <td>0</td>\n      <td>3</td>\n    </tr>\n  </tbody>\n</table>\n<p>301 rows × 9 columns</p>\n</div>"
     },
     "execution_count": 18,
     "metadata": {},
     "output_type": "execute_result"
    }
   ],
   "source": [
    "data [ \"Fuel_Type\" ].replace ( { \"Petrol\" : 2, \"Diesel\" : 3, \"CNG\" : 4 }, inplace = True )\n",
    "data [ \"Seller_Type\" ].replace ( { \"Dealer\" : 2, \"Individual\" : 3 }, inplace = True )\n",
    "data [ \"Transmission\" ].replace ( { \"Manual\" : 2, \"Automatic\" : 3 }, inplace = True )\n",
    "data"
   ],
   "metadata": {
    "collapsed": false,
    "pycharm": {
     "name": "#%%\n"
    }
   }
  },
  {
   "cell_type": "code",
   "execution_count": 19,
   "outputs": [
    {
     "data": {
      "text/plain": "     Selling_Price  Present_Price  Kms_Driven  Fuel_Type  Seller_Type  \\\n0             3.35           5.59       27000          2            2   \n1             4.75           9.54       43000          3            2   \n2             7.25           9.85        6900          2            2   \n3             2.85           4.15        5200          2            2   \n4             4.60           6.87       42450          3            2   \n..             ...            ...         ...        ...          ...   \n296           9.50          11.60       33988          3            2   \n297           4.00           5.90       60000          2            2   \n298           3.35          11.00       87934          2            2   \n299          11.50          12.50        9000          3            2   \n300           5.30           5.90        5464          2            2   \n\n     Transmission  Owner  Age  \n0               2      0    5  \n1               2      0    6  \n2               2      0    2  \n3               2      0    8  \n4               2      0    5  \n..            ...    ...  ...  \n296             2      0    3  \n297             2      0    4  \n298             2      0   10  \n299             2      0    2  \n300             2      0    3  \n\n[301 rows x 8 columns]",
      "text/html": "<div>\n<style scoped>\n    .dataframe tbody tr th:only-of-type {\n        vertical-align: middle;\n    }\n\n    .dataframe tbody tr th {\n        vertical-align: top;\n    }\n\n    .dataframe thead th {\n        text-align: right;\n    }\n</style>\n<table border=\"1\" class=\"dataframe\">\n  <thead>\n    <tr style=\"text-align: right;\">\n      <th></th>\n      <th>Selling_Price</th>\n      <th>Present_Price</th>\n      <th>Kms_Driven</th>\n      <th>Fuel_Type</th>\n      <th>Seller_Type</th>\n      <th>Transmission</th>\n      <th>Owner</th>\n      <th>Age</th>\n    </tr>\n  </thead>\n  <tbody>\n    <tr>\n      <th>0</th>\n      <td>3.35</td>\n      <td>5.59</td>\n      <td>27000</td>\n      <td>2</td>\n      <td>2</td>\n      <td>2</td>\n      <td>0</td>\n      <td>5</td>\n    </tr>\n    <tr>\n      <th>1</th>\n      <td>4.75</td>\n      <td>9.54</td>\n      <td>43000</td>\n      <td>3</td>\n      <td>2</td>\n      <td>2</td>\n      <td>0</td>\n      <td>6</td>\n    </tr>\n    <tr>\n      <th>2</th>\n      <td>7.25</td>\n      <td>9.85</td>\n      <td>6900</td>\n      <td>2</td>\n      <td>2</td>\n      <td>2</td>\n      <td>0</td>\n      <td>2</td>\n    </tr>\n    <tr>\n      <th>3</th>\n      <td>2.85</td>\n      <td>4.15</td>\n      <td>5200</td>\n      <td>2</td>\n      <td>2</td>\n      <td>2</td>\n      <td>0</td>\n      <td>8</td>\n    </tr>\n    <tr>\n      <th>4</th>\n      <td>4.60</td>\n      <td>6.87</td>\n      <td>42450</td>\n      <td>3</td>\n      <td>2</td>\n      <td>2</td>\n      <td>0</td>\n      <td>5</td>\n    </tr>\n    <tr>\n      <th>...</th>\n      <td>...</td>\n      <td>...</td>\n      <td>...</td>\n      <td>...</td>\n      <td>...</td>\n      <td>...</td>\n      <td>...</td>\n      <td>...</td>\n    </tr>\n    <tr>\n      <th>296</th>\n      <td>9.50</td>\n      <td>11.60</td>\n      <td>33988</td>\n      <td>3</td>\n      <td>2</td>\n      <td>2</td>\n      <td>0</td>\n      <td>3</td>\n    </tr>\n    <tr>\n      <th>297</th>\n      <td>4.00</td>\n      <td>5.90</td>\n      <td>60000</td>\n      <td>2</td>\n      <td>2</td>\n      <td>2</td>\n      <td>0</td>\n      <td>4</td>\n    </tr>\n    <tr>\n      <th>298</th>\n      <td>3.35</td>\n      <td>11.00</td>\n      <td>87934</td>\n      <td>2</td>\n      <td>2</td>\n      <td>2</td>\n      <td>0</td>\n      <td>10</td>\n    </tr>\n    <tr>\n      <th>299</th>\n      <td>11.50</td>\n      <td>12.50</td>\n      <td>9000</td>\n      <td>3</td>\n      <td>2</td>\n      <td>2</td>\n      <td>0</td>\n      <td>2</td>\n    </tr>\n    <tr>\n      <th>300</th>\n      <td>5.30</td>\n      <td>5.90</td>\n      <td>5464</td>\n      <td>2</td>\n      <td>2</td>\n      <td>2</td>\n      <td>0</td>\n      <td>3</td>\n    </tr>\n  </tbody>\n</table>\n<p>301 rows × 8 columns</p>\n</div>"
     },
     "execution_count": 19,
     "metadata": {},
     "output_type": "execute_result"
    }
   ],
   "source": [
    "data.drop ( \"Car_Name\", axis = 1, inplace = True )\n",
    "data"
   ],
   "metadata": {
    "collapsed": false,
    "pycharm": {
     "name": "#%%\n"
    }
   }
  },
  {
   "cell_type": "code",
   "execution_count": 20,
   "outputs": [],
   "source": [
    "x = data.drop ( \"Selling_Price\", axis = 1 )\n",
    "y = data.Selling_Price"
   ],
   "metadata": {
    "collapsed": false,
    "pycharm": {
     "name": "#%%\n"
    }
   }
  },
  {
   "cell_type": "code",
   "execution_count": 21,
   "outputs": [
    {
     "name": "stdout",
     "output_type": "stream",
     "text": [
      "x train :  (240, 7)\n",
      "x test :  (61, 7)\n",
      "y train (240,)\n",
      "y test (61,)\n"
     ]
    }
   ],
   "source": [
    "from sklearn.model_selection import train_test_split\n",
    "\n",
    "x_train, x_test, y_train, y_test = train_test_split ( x, y, test_size = 0.2, random_state = 1 )\n",
    "print ( \"x train : \", x_train.shape )\n",
    "print ( \"x test : \", x_test.shape )\n",
    "print ( \"y train\", y_train.shape )\n",
    "print ( \"y test\", y_test.shape )"
   ],
   "metadata": {
    "collapsed": false,
    "pycharm": {
     "name": "#%%\n"
    }
   }
  },
  {
   "cell_type": "code",
   "execution_count": 22,
   "outputs": [],
   "source": [
    "from sklearn.linear_model import LinearRegression\n",
    "from sklearn import metrics\n",
    "from sklearn.model_selection import cross_val_score\n",
    "from sklearn.model_selection import KFold"
   ],
   "metadata": {
    "collapsed": false,
    "pycharm": {
     "name": "#%%\n"
    }
   }
  },
  {
   "cell_type": "code",
   "execution_count": 23,
   "outputs": [
    {
     "data": {
      "text/plain": "LinearRegression()"
     },
     "execution_count": 23,
     "metadata": {},
     "output_type": "execute_result"
    }
   ],
   "source": [
    "Model = LinearRegression ()\n",
    "Model.fit ( x_train, y_train )"
   ],
   "metadata": {
    "collapsed": false,
    "pycharm": {
     "name": "#%%\n"
    }
   }
  },
  {
   "cell_type": "code",
   "execution_count": 24,
   "outputs": [],
   "source": [
    "y_pred = Model.predict ( x_test )"
   ],
   "metadata": {
    "collapsed": false,
    "pycharm": {
     "name": "#%%\n"
    }
   }
  },
  {
   "cell_type": "code",
   "execution_count": 25,
   "outputs": [
    {
     "name": "stdout",
     "output_type": "stream",
     "text": [
      "Mean Absolute Error :  1.1530045916158922\n",
      "Mean Squared Error :  3.2876460857158407\n",
      "Root Mean Squared Error :  1.8131867211392876\n",
      "R2 Score :  0.8484549412090379\n"
     ]
    }
   ],
   "source": [
    "print ( \"Mean Absolute Error : \", metrics.mean_absolute_error ( y_test, y_pred ) )\n",
    "print ( \"Mean Squared Error : \", metrics.mean_squared_error ( y_test, y_pred ) )\n",
    "print ( \"Root Mean Squared Error : \", np.sqrt ( metrics.mean_squared_error ( y_test, y_pred ) ) )\n",
    "print ( \"R2 Score : \", metrics.r2_score ( y_test, y_pred ) )"
   ],
   "metadata": {
    "collapsed": false,
    "pycharm": {
     "name": "#%%\n"
    }
   }
  },
  {
   "cell_type": "markdown",
   "source": [
    "# Improve Model"
   ],
   "metadata": {
    "collapsed": false,
    "pycharm": {
     "name": "#%% md\n"
    }
   }
  },
  {
   "cell_type": "code",
   "execution_count": 26,
   "outputs": [
    {
     "name": "stdout",
     "output_type": "stream",
     "text": [
      "[ 6.63522141e-01  8.80842763e-01  7.23708463e-01  8.63126108e-01\n",
      " -4.36488306e+01 -1.07944231e+03 -3.50129071e-01  7.84378582e-01\n",
      "  8.27975783e-01  8.74089252e-01]\n"
     ]
    }
   ],
   "source": [
    "k_fold = KFold ( 10 )\n",
    "print ( cross_val_score ( Model, x, y.ravel (), cv = k_fold, n_jobs = 1 ) )"
   ],
   "metadata": {
    "collapsed": false,
    "pycharm": {
     "name": "#%%\n"
    }
   }
  },
  {
   "cell_type": "code",
   "execution_count": 27,
   "outputs": [
    {
     "data": {
      "text/plain": "30.1"
     },
     "execution_count": 27,
     "metadata": {},
     "output_type": "execute_result"
    }
   ],
   "source": [
    "len ( data ) / 10"
   ],
   "metadata": {
    "collapsed": false,
    "pycharm": {
     "name": "#%%\n"
    }
   }
  },
  {
   "cell_type": "code",
   "execution_count": 28,
   "outputs": [
    {
     "data": {
      "text/plain": "     Selling_Price  Present_Price  Kms_Driven  Fuel_Type  Seller_Type  \\\n0             3.35           5.59       27000          2            2   \n1             4.75           9.54       43000          3            2   \n2             7.25           9.85        6900          2            2   \n3             2.85           4.15        5200          2            2   \n4             4.60           6.87       42450          3            2   \n..             ...            ...         ...        ...          ...   \n205           9.50          11.60       33988          3            2   \n206           4.00           5.90       60000          2            2   \n207           3.35          11.00       87934          2            2   \n208          11.50          12.50        9000          3            2   \n209           5.30           5.90        5464          2            2   \n\n     Transmission  Owner  Age  \n0               2      0    5  \n1               2      0    6  \n2               2      0    2  \n3               2      0    8  \n4               2      0    5  \n..            ...    ...  ...  \n205             2      0    3  \n206             2      0    4  \n207             2      0   10  \n208             2      0    2  \n209             2      0    3  \n\n[210 rows x 8 columns]",
      "text/html": "<div>\n<style scoped>\n    .dataframe tbody tr th:only-of-type {\n        vertical-align: middle;\n    }\n\n    .dataframe tbody tr th {\n        vertical-align: top;\n    }\n\n    .dataframe thead th {\n        text-align: right;\n    }\n</style>\n<table border=\"1\" class=\"dataframe\">\n  <thead>\n    <tr style=\"text-align: right;\">\n      <th></th>\n      <th>Selling_Price</th>\n      <th>Present_Price</th>\n      <th>Kms_Driven</th>\n      <th>Fuel_Type</th>\n      <th>Seller_Type</th>\n      <th>Transmission</th>\n      <th>Owner</th>\n      <th>Age</th>\n    </tr>\n  </thead>\n  <tbody>\n    <tr>\n      <th>0</th>\n      <td>3.35</td>\n      <td>5.59</td>\n      <td>27000</td>\n      <td>2</td>\n      <td>2</td>\n      <td>2</td>\n      <td>0</td>\n      <td>5</td>\n    </tr>\n    <tr>\n      <th>1</th>\n      <td>4.75</td>\n      <td>9.54</td>\n      <td>43000</td>\n      <td>3</td>\n      <td>2</td>\n      <td>2</td>\n      <td>0</td>\n      <td>6</td>\n    </tr>\n    <tr>\n      <th>2</th>\n      <td>7.25</td>\n      <td>9.85</td>\n      <td>6900</td>\n      <td>2</td>\n      <td>2</td>\n      <td>2</td>\n      <td>0</td>\n      <td>2</td>\n    </tr>\n    <tr>\n      <th>3</th>\n      <td>2.85</td>\n      <td>4.15</td>\n      <td>5200</td>\n      <td>2</td>\n      <td>2</td>\n      <td>2</td>\n      <td>0</td>\n      <td>8</td>\n    </tr>\n    <tr>\n      <th>4</th>\n      <td>4.60</td>\n      <td>6.87</td>\n      <td>42450</td>\n      <td>3</td>\n      <td>2</td>\n      <td>2</td>\n      <td>0</td>\n      <td>5</td>\n    </tr>\n    <tr>\n      <th>...</th>\n      <td>...</td>\n      <td>...</td>\n      <td>...</td>\n      <td>...</td>\n      <td>...</td>\n      <td>...</td>\n      <td>...</td>\n      <td>...</td>\n    </tr>\n    <tr>\n      <th>205</th>\n      <td>9.50</td>\n      <td>11.60</td>\n      <td>33988</td>\n      <td>3</td>\n      <td>2</td>\n      <td>2</td>\n      <td>0</td>\n      <td>3</td>\n    </tr>\n    <tr>\n      <th>206</th>\n      <td>4.00</td>\n      <td>5.90</td>\n      <td>60000</td>\n      <td>2</td>\n      <td>2</td>\n      <td>2</td>\n      <td>0</td>\n      <td>4</td>\n    </tr>\n    <tr>\n      <th>207</th>\n      <td>3.35</td>\n      <td>11.00</td>\n      <td>87934</td>\n      <td>2</td>\n      <td>2</td>\n      <td>2</td>\n      <td>0</td>\n      <td>10</td>\n    </tr>\n    <tr>\n      <th>208</th>\n      <td>11.50</td>\n      <td>12.50</td>\n      <td>9000</td>\n      <td>3</td>\n      <td>2</td>\n      <td>2</td>\n      <td>0</td>\n      <td>2</td>\n    </tr>\n    <tr>\n      <th>209</th>\n      <td>5.30</td>\n      <td>5.90</td>\n      <td>5464</td>\n      <td>2</td>\n      <td>2</td>\n      <td>2</td>\n      <td>0</td>\n      <td>3</td>\n    </tr>\n  </tbody>\n</table>\n<p>210 rows × 8 columns</p>\n</div>"
     },
     "execution_count": 28,
     "metadata": {},
     "output_type": "execute_result"
    }
   ],
   "source": [
    "data1 = data [ data.index < 120 ]\n",
    "data2 = data [ data.index > 210 ]\n",
    "data3 = data1.append ( data2 )\n",
    "data3.reset_index ( drop = True, inplace = True )\n",
    "data3"
   ],
   "metadata": {
    "collapsed": false,
    "pycharm": {
     "name": "#%%\n"
    }
   }
  },
  {
   "cell_type": "code",
   "execution_count": 29,
   "outputs": [
    {
     "data": {
      "text/plain": "LinearRegression()"
     },
     "execution_count": 29,
     "metadata": {},
     "output_type": "execute_result"
    }
   ],
   "source": [
    "x2 = data3.drop ( \"Selling_Price\", axis = 1 )\n",
    "y2 = data3 [ \"Selling_Price\" ].values.reshape ( -1, 1 )\n",
    "x_train2, x_test2, y_train2, y_test2 = train_test_split ( x2, y2, test_size = 0.2, random_state = 1 )\n",
    "Model2 = LinearRegression ()\n",
    "Model2.fit ( x_train2, y_train2 )"
   ],
   "metadata": {
    "collapsed": false,
    "pycharm": {
     "name": "#%%\n"
    }
   }
  },
  {
   "cell_type": "code",
   "execution_count": 30,
   "outputs": [],
   "source": [
    "y_pred2 = Model2.predict ( x_test2 )"
   ],
   "metadata": {
    "collapsed": false,
    "pycharm": {
     "name": "#%%\n"
    }
   }
  },
  {
   "cell_type": "code",
   "execution_count": 31,
   "outputs": [
    {
     "name": "stdout",
     "output_type": "stream",
     "text": [
      "Mean Absolute Error :  1.2344068697754242\n",
      "Mean Squared Error :  2.6238982580770447\n",
      "Root Mean Squared Error :  1.619845133979494\n",
      "R2 Score :  0.8793462370195\n"
     ]
    }
   ],
   "source": [
    "print ( \"Mean Absolute Error : \", metrics.mean_absolute_error ( y_test2, y_pred2 ) )\n",
    "print ( \"Mean Squared Error : \", metrics.mean_squared_error ( y_test2, y_pred2 ) )\n",
    "print ( \"Root Mean Squared Error : \", np.sqrt ( metrics.mean_squared_error ( y_test2, y_pred2 ) ) )\n",
    "print ( \"R2 Score : \", metrics.r2_score ( y_test2, y_pred2 ) )"
   ],
   "metadata": {
    "collapsed": false,
    "pycharm": {
     "name": "#%%\n"
    }
   }
  },
  {
   "cell_type": "code",
   "execution_count": 32,
   "outputs": [
    {
     "name": "stdout",
     "output_type": "stream",
     "text": [
      "Model Intercept =  [-1.69623504]\n",
      "Model Coefs =  [[ 4.42320455e-01 -2.66901271e-05  2.25919515e+00 -1.26225774e+00\n",
      "   2.10515821e+00 -1.13003710e+00 -4.62552614e-01]]\n"
     ]
    }
   ],
   "source": [
    "print ( \"Model Intercept = \", Model2.intercept_ )\n",
    "print ( \"Model Coefs = \", Model2.coef_ )"
   ],
   "metadata": {
    "collapsed": false,
    "pycharm": {
     "name": "#%%\n"
    }
   }
  },
  {
   "cell_type": "code",
   "execution_count": 33,
   "outputs": [
    {
     "data": {
      "text/plain": "array([[6.23558857]])"
     },
     "execution_count": 33,
     "metadata": {},
     "output_type": "execute_result"
    }
   ],
   "source": [
    "y_pred2 = Model2.predict ( [ [ 11.23, 42000, 1, 4, 6, 1, 10 ] ] )\n",
    "y_pred2"
   ],
   "metadata": {
    "collapsed": false,
    "pycharm": {
     "name": "#%%\n"
    }
   }
  },
  {
   "cell_type": "code",
   "execution_count": 34,
   "outputs": [
    {
     "name": "stdout",
     "output_type": "stream",
     "text": [
      "x train :  (240, 7)\n",
      "x test :  (61, 7)\n",
      "y train (240, 1)\n",
      "y test (61, 1)\n",
      "Mean Absolute Error :  1.0000326012144765\n",
      "Mean Squared Error :  2.188556445657223\n",
      "Root Mean Squared Error :  1.479377046481803\n",
      "R2 Score :  0.9134181721224691\n"
     ]
    }
   ],
   "source": [
    "x = data.drop ( \"Selling_Price\", axis = 1 )\n",
    "y = data.Selling_Price.values.reshape ( -1, 1 )\n",
    "\n",
    "x_train, x_test, y_train, y_test = train_test_split ( x, y, test_size = 0.2, random_state = 0 )\n",
    "Model = LinearRegression ()\n",
    "Model.fit ( x_train, y_train )\n",
    "y_pred = Model.predict ( x_test )\n",
    "print ( \"x train : \", x_train.shape )\n",
    "print ( \"x test : \", x_test.shape )\n",
    "print ( \"y train\", y_train.shape )\n",
    "print ( \"y test\", y_test.shape )\n",
    "print ( \"Mean Absolute Error : \", metrics.mean_absolute_error ( y_test, y_pred ) )\n",
    "print ( \"Mean Squared Error : \", metrics.mean_squared_error ( y_test, y_pred ) )\n",
    "print ( \"Root Mean Squared Error : \", np.sqrt ( metrics.mean_squared_error ( y_test, y_pred ) ) )\n",
    "print ( \"R2 Score : \", metrics.r2_score ( y_test, y_pred ) )"
   ],
   "metadata": {
    "collapsed": false,
    "pycharm": {
     "name": "#%%\n"
    }
   }
  },
  {
   "cell_type": "code",
   "execution_count": 35,
   "outputs": [
    {
     "name": "stdout",
     "output_type": "stream",
     "text": [
      "R2 Score :  0.9311515303255039\n"
     ]
    }
   ],
   "source": [
    "def check ( Dimension, testsize ) :\n",
    "    r2 = 0.9134181721224691\n",
    "    for column in x :\n",
    "        new_col_name = column + str ( Dimension )\n",
    "        new_col_val = x [ column ] ** Dimension\n",
    "        x.insert ( 0, new_col_name, new_col_val )\n",
    "        x_train, x_test, y_train, y_test = train_test_split ( x, y, test_size = testsize, random_state = 0 )\n",
    "        new_model = LinearRegression ()\n",
    "        new_model.fit ( x_train, y_train )\n",
    "        y_pred = new_model.predict ( x_test )\n",
    "        r2_new = metrics.r2_score ( y_test, y_pred )\n",
    "        if r2_new < r2 :\n",
    "            x.drop ( [ new_col_name ], axis = 1, inplace = True )\n",
    "        else :\n",
    "            r2 = r2_new\n",
    "    print ( \"R2 Score : \", r2 )\n",
    "\n",
    "\n",
    "check ( 2, 0.2 )"
   ],
   "metadata": {
    "collapsed": false,
    "pycharm": {
     "name": "#%%\n"
    }
   }
  },
  {
   "cell_type": "code",
   "execution_count": 36,
   "outputs": [
    {
     "data": {
      "text/plain": "     Owner2  Fuel_Type2  Kms_Driven2  Present_Price2  Present_Price  \\\n0         0           4    729000000         31.2481           5.59   \n1         0           9   1849000000         91.0116           9.54   \n2         0           4     47610000         97.0225           9.85   \n3         0           4     27040000         17.2225           4.15   \n4         0           9   1802002500         47.1969           6.87   \n..      ...         ...          ...             ...            ...   \n296       0           9   1155184144        134.5600          11.60   \n297       0           4   3600000000         34.8100           5.90   \n298       0           4   7732388356        121.0000          11.00   \n299       0           9     81000000        156.2500          12.50   \n300       0           4     29855296         34.8100           5.90   \n\n     Kms_Driven  Fuel_Type  Seller_Type  Transmission  Owner  Age  \n0         27000          2            2             2      0    5  \n1         43000          3            2             2      0    6  \n2          6900          2            2             2      0    2  \n3          5200          2            2             2      0    8  \n4         42450          3            2             2      0    5  \n..          ...        ...          ...           ...    ...  ...  \n296       33988          3            2             2      0    3  \n297       60000          2            2             2      0    4  \n298       87934          2            2             2      0   10  \n299        9000          3            2             2      0    2  \n300        5464          2            2             2      0    3  \n\n[301 rows x 11 columns]",
      "text/html": "<div>\n<style scoped>\n    .dataframe tbody tr th:only-of-type {\n        vertical-align: middle;\n    }\n\n    .dataframe tbody tr th {\n        vertical-align: top;\n    }\n\n    .dataframe thead th {\n        text-align: right;\n    }\n</style>\n<table border=\"1\" class=\"dataframe\">\n  <thead>\n    <tr style=\"text-align: right;\">\n      <th></th>\n      <th>Owner2</th>\n      <th>Fuel_Type2</th>\n      <th>Kms_Driven2</th>\n      <th>Present_Price2</th>\n      <th>Present_Price</th>\n      <th>Kms_Driven</th>\n      <th>Fuel_Type</th>\n      <th>Seller_Type</th>\n      <th>Transmission</th>\n      <th>Owner</th>\n      <th>Age</th>\n    </tr>\n  </thead>\n  <tbody>\n    <tr>\n      <th>0</th>\n      <td>0</td>\n      <td>4</td>\n      <td>729000000</td>\n      <td>31.2481</td>\n      <td>5.59</td>\n      <td>27000</td>\n      <td>2</td>\n      <td>2</td>\n      <td>2</td>\n      <td>0</td>\n      <td>5</td>\n    </tr>\n    <tr>\n      <th>1</th>\n      <td>0</td>\n      <td>9</td>\n      <td>1849000000</td>\n      <td>91.0116</td>\n      <td>9.54</td>\n      <td>43000</td>\n      <td>3</td>\n      <td>2</td>\n      <td>2</td>\n      <td>0</td>\n      <td>6</td>\n    </tr>\n    <tr>\n      <th>2</th>\n      <td>0</td>\n      <td>4</td>\n      <td>47610000</td>\n      <td>97.0225</td>\n      <td>9.85</td>\n      <td>6900</td>\n      <td>2</td>\n      <td>2</td>\n      <td>2</td>\n      <td>0</td>\n      <td>2</td>\n    </tr>\n    <tr>\n      <th>3</th>\n      <td>0</td>\n      <td>4</td>\n      <td>27040000</td>\n      <td>17.2225</td>\n      <td>4.15</td>\n      <td>5200</td>\n      <td>2</td>\n      <td>2</td>\n      <td>2</td>\n      <td>0</td>\n      <td>8</td>\n    </tr>\n    <tr>\n      <th>4</th>\n      <td>0</td>\n      <td>9</td>\n      <td>1802002500</td>\n      <td>47.1969</td>\n      <td>6.87</td>\n      <td>42450</td>\n      <td>3</td>\n      <td>2</td>\n      <td>2</td>\n      <td>0</td>\n      <td>5</td>\n    </tr>\n    <tr>\n      <th>...</th>\n      <td>...</td>\n      <td>...</td>\n      <td>...</td>\n      <td>...</td>\n      <td>...</td>\n      <td>...</td>\n      <td>...</td>\n      <td>...</td>\n      <td>...</td>\n      <td>...</td>\n      <td>...</td>\n    </tr>\n    <tr>\n      <th>296</th>\n      <td>0</td>\n      <td>9</td>\n      <td>1155184144</td>\n      <td>134.5600</td>\n      <td>11.60</td>\n      <td>33988</td>\n      <td>3</td>\n      <td>2</td>\n      <td>2</td>\n      <td>0</td>\n      <td>3</td>\n    </tr>\n    <tr>\n      <th>297</th>\n      <td>0</td>\n      <td>4</td>\n      <td>3600000000</td>\n      <td>34.8100</td>\n      <td>5.90</td>\n      <td>60000</td>\n      <td>2</td>\n      <td>2</td>\n      <td>2</td>\n      <td>0</td>\n      <td>4</td>\n    </tr>\n    <tr>\n      <th>298</th>\n      <td>0</td>\n      <td>4</td>\n      <td>7732388356</td>\n      <td>121.0000</td>\n      <td>11.00</td>\n      <td>87934</td>\n      <td>2</td>\n      <td>2</td>\n      <td>2</td>\n      <td>0</td>\n      <td>10</td>\n    </tr>\n    <tr>\n      <th>299</th>\n      <td>0</td>\n      <td>9</td>\n      <td>81000000</td>\n      <td>156.2500</td>\n      <td>12.50</td>\n      <td>9000</td>\n      <td>3</td>\n      <td>2</td>\n      <td>2</td>\n      <td>0</td>\n      <td>2</td>\n    </tr>\n    <tr>\n      <th>300</th>\n      <td>0</td>\n      <td>4</td>\n      <td>29855296</td>\n      <td>34.8100</td>\n      <td>5.90</td>\n      <td>5464</td>\n      <td>2</td>\n      <td>2</td>\n      <td>2</td>\n      <td>0</td>\n      <td>3</td>\n    </tr>\n  </tbody>\n</table>\n<p>301 rows × 11 columns</p>\n</div>"
     },
     "execution_count": 36,
     "metadata": {},
     "output_type": "execute_result"
    }
   ],
   "source": [
    "x"
   ],
   "metadata": {
    "collapsed": false,
    "pycharm": {
     "name": "#%%\n"
    }
   }
  },
  {
   "cell_type": "code",
   "execution_count": 37,
   "outputs": [],
   "source": [
    "pres_kms = x.Present_Price * x.Kms_Driven\n",
    "pres_kms2 = x.Present_Price * x.Kms_Driven2\n",
    "pres_fuel = x.Present_Price * x.Fuel_Type\n",
    "pres_fuel2 = x.Present_Price * x.Fuel_Type2\n",
    "pres2_kms = x.Present_Price2 * x.Kms_Driven\n",
    "pres2_kms2 = x.Present_Price2 * x.Kms_Driven2\n",
    "pres2_fuel = x.Present_Price2 * x.Fuel_Type\n",
    "pres2_fuel2 = x.Present_Price2 * x.Fuel_Type2"
   ],
   "metadata": {
    "collapsed": false,
    "pycharm": {
     "name": "#%%\n"
    }
   }
  },
  {
   "cell_type": "code",
   "execution_count": 38,
   "outputs": [],
   "source": [
    "x.insert(0,\"pres_kms\",pres_kms)\n",
    "x.insert(0,\"pres_kms2\",pres_kms2)\n",
    "x.insert(0,\"pres_fuel\",pres_fuel)\n",
    "x.insert(0,\"pres_fuel2\",pres_fuel2)\n",
    "x.insert(0,\"pres2_kms\",pres2_kms)\n",
    "x.insert(0,\"pres2_kms2\",pres2_kms2)\n",
    "x.insert(0,\"pres2_fuel\",pres2_fuel)\n",
    "x.insert(0,\"pres2_fuel2\",pres2_fuel2)"
   ],
   "metadata": {
    "collapsed": false,
    "pycharm": {
     "name": "#%%\n"
    }
   }
  },
  {
   "cell_type": "code",
   "execution_count": 39,
   "outputs": [
    {
     "name": "stdout",
     "output_type": "stream",
     "text": [
      "x train :  (240, 19)\n",
      "x test :  (61, 19)\n",
      "y train (240, 1)\n",
      "y test (61, 1)\n",
      "Mean Absolute Error :  0.7263885798727443\n",
      "Mean Squared Error :  1.1927552046067023\n",
      "Root Mean Squared Error :  1.0921333273033573\n",
      "R2 Score :  0.9528132226014968\n"
     ]
    }
   ],
   "source": [
    "x_train, x_test, y_train, y_test = train_test_split ( x, y, test_size = 0.2, random_state = 0 )\n",
    "Model = LinearRegression ()\n",
    "Model.fit ( x_train, y_train )\n",
    "y_pred = Model.predict ( x_test )\n",
    "print ( \"x train : \", x_train.shape )\n",
    "print ( \"x test : \", x_test.shape )\n",
    "print ( \"y train\", y_train.shape )\n",
    "print ( \"y test\", y_test.shape )\n",
    "print ( \"Mean Absolute Error : \", metrics.mean_absolute_error ( y_test, y_pred ) )\n",
    "print ( \"Mean Squared Error : \", metrics.mean_squared_error ( y_test, y_pred ) )\n",
    "print ( \"Root Mean Squared Error : \", np.sqrt ( metrics.mean_squared_error ( y_test, y_pred ) ) )\n",
    "print ( \"R2 Score : \", metrics.r2_score ( y_test, y_pred ) )"
   ],
   "metadata": {
    "collapsed": false,
    "pycharm": {
     "name": "#%%\n"
    }
   }
  },
  {
   "cell_type": "code",
   "execution_count": 40,
   "outputs": [
    {
     "name": "stdout",
     "output_type": "stream",
     "text": [
      "[ 0.94787822  0.9337517  -2.09888342  0.86452297]\n",
      "0.16181736974712987\n"
     ]
    }
   ],
   "source": [
    "from sklearn.model_selection import  KFold\n",
    "from sklearn.model_selection import  cross_val_score\n",
    "\n",
    "k_fold = KFold(n_splits = 4)\n",
    "results = (cross_val_score(Model,x,y,cv = k_fold,n_jobs = 1))\n",
    "print(results)\n",
    "print(np.mean(results))"
   ],
   "metadata": {
    "collapsed": false,
    "pycharm": {
     "name": "#%%\n"
    }
   }
  },
  {
   "cell_type": "code",
   "source": [
    "x.shape"
   ],
   "metadata": {
    "collapsed": false,
    "pycharm": {
     "name": "#%%\n"
    }
   },
   "execution_count": 41,
   "outputs": [
    {
     "data": {
      "text/plain": "(301, 19)"
     },
     "execution_count": 41,
     "metadata": {},
     "output_type": "execute_result"
    }
   ]
  },
  {
   "cell_type": "code",
   "execution_count": 42,
   "outputs": [
    {
     "data": {
      "text/plain": "50.166666666666664"
     },
     "execution_count": 42,
     "metadata": {},
     "output_type": "execute_result"
    }
   ],
   "source": [
    "301/6"
   ],
   "metadata": {
    "collapsed": false,
    "pycharm": {
     "name": "#%%\n"
    }
   }
  },
  {
   "cell_type": "code",
   "execution_count": 43,
   "outputs": [
    {
     "data": {
      "text/plain": "     pres2_fuel2  pres2_fuel    pres2_kms2     pres2_kms  pres_fuel2  \\\n0       124.9924     62.4962  2.277986e+10  8.436987e+05       22.36   \n1       819.1044    273.0348  1.682804e+11  3.913499e+06       85.86   \n2       388.0900    194.0450  4.619241e+09  6.694552e+05       39.40   \n3        68.8900     34.4450  4.656964e+08  8.955700e+04       16.60   \n4       424.7721    141.5907  8.504893e+10  2.003508e+06       61.83   \n..           ...         ...           ...           ...         ...   \n244    1211.0400    403.6800  1.554416e+11  4.573425e+06      104.40   \n245     139.2400     69.6200  1.253160e+11  2.088600e+06       23.60   \n246     484.0000    242.0000  9.356190e+11  1.064001e+07       44.00   \n247    1406.2500    468.7500  1.265625e+10  1.406250e+06      112.50   \n248     139.2400     69.6200  1.039263e+09  1.902018e+05       23.60   \n\n     pres_fuel     pres_kms2  pres_kms  Owner2  Fuel_Type2  Kms_Driven2  \\\n0        11.18  4.075110e+09  150930.0       0           4    729000000   \n1        28.62  1.763946e+10  410220.0       0           9   1849000000   \n2        19.70  4.689585e+08   67965.0       0           4     47610000   \n3         8.30  1.122160e+08   21580.0       0           4     27040000   \n4        20.61  1.237976e+10  291631.5       0           9   1802002500   \n..         ...           ...       ...     ...         ...          ...   \n244      34.80  1.340014e+10  394260.8       0           9   1155184144   \n245      11.80  2.124000e+10  354000.0       0           4   3600000000   \n246      22.00  8.505627e+10  967274.0       0           4   7732388356   \n247      37.50  1.012500e+09  112500.0       0           9     81000000   \n248      11.80  1.761462e+08   32237.6       0           4     29855296   \n\n     Present_Price2  Present_Price  Kms_Driven  Fuel_Type  Seller_Type  \\\n0           31.2481           5.59       27000          2            2   \n1           91.0116           9.54       43000          3            2   \n2           97.0225           9.85        6900          2            2   \n3           17.2225           4.15        5200          2            2   \n4           47.1969           6.87       42450          3            2   \n..              ...            ...         ...        ...          ...   \n244        134.5600          11.60       33988          3            2   \n245         34.8100           5.90       60000          2            2   \n246        121.0000          11.00       87934          2            2   \n247        156.2500          12.50        9000          3            2   \n248         34.8100           5.90        5464          2            2   \n\n     Transmission  Owner  Age  \n0               2      0    5  \n1               2      0    6  \n2               2      0    2  \n3               2      0    8  \n4               2      0    5  \n..            ...    ...  ...  \n244             2      0    3  \n245             2      0    4  \n246             2      0   10  \n247             2      0    2  \n248             2      0    3  \n\n[249 rows x 19 columns]",
      "text/html": "<div>\n<style scoped>\n    .dataframe tbody tr th:only-of-type {\n        vertical-align: middle;\n    }\n\n    .dataframe tbody tr th {\n        vertical-align: top;\n    }\n\n    .dataframe thead th {\n        text-align: right;\n    }\n</style>\n<table border=\"1\" class=\"dataframe\">\n  <thead>\n    <tr style=\"text-align: right;\">\n      <th></th>\n      <th>pres2_fuel2</th>\n      <th>pres2_fuel</th>\n      <th>pres2_kms2</th>\n      <th>pres2_kms</th>\n      <th>pres_fuel2</th>\n      <th>pres_fuel</th>\n      <th>pres_kms2</th>\n      <th>pres_kms</th>\n      <th>Owner2</th>\n      <th>Fuel_Type2</th>\n      <th>Kms_Driven2</th>\n      <th>Present_Price2</th>\n      <th>Present_Price</th>\n      <th>Kms_Driven</th>\n      <th>Fuel_Type</th>\n      <th>Seller_Type</th>\n      <th>Transmission</th>\n      <th>Owner</th>\n      <th>Age</th>\n    </tr>\n  </thead>\n  <tbody>\n    <tr>\n      <th>0</th>\n      <td>124.9924</td>\n      <td>62.4962</td>\n      <td>2.277986e+10</td>\n      <td>8.436987e+05</td>\n      <td>22.36</td>\n      <td>11.18</td>\n      <td>4.075110e+09</td>\n      <td>150930.0</td>\n      <td>0</td>\n      <td>4</td>\n      <td>729000000</td>\n      <td>31.2481</td>\n      <td>5.59</td>\n      <td>27000</td>\n      <td>2</td>\n      <td>2</td>\n      <td>2</td>\n      <td>0</td>\n      <td>5</td>\n    </tr>\n    <tr>\n      <th>1</th>\n      <td>819.1044</td>\n      <td>273.0348</td>\n      <td>1.682804e+11</td>\n      <td>3.913499e+06</td>\n      <td>85.86</td>\n      <td>28.62</td>\n      <td>1.763946e+10</td>\n      <td>410220.0</td>\n      <td>0</td>\n      <td>9</td>\n      <td>1849000000</td>\n      <td>91.0116</td>\n      <td>9.54</td>\n      <td>43000</td>\n      <td>3</td>\n      <td>2</td>\n      <td>2</td>\n      <td>0</td>\n      <td>6</td>\n    </tr>\n    <tr>\n      <th>2</th>\n      <td>388.0900</td>\n      <td>194.0450</td>\n      <td>4.619241e+09</td>\n      <td>6.694552e+05</td>\n      <td>39.40</td>\n      <td>19.70</td>\n      <td>4.689585e+08</td>\n      <td>67965.0</td>\n      <td>0</td>\n      <td>4</td>\n      <td>47610000</td>\n      <td>97.0225</td>\n      <td>9.85</td>\n      <td>6900</td>\n      <td>2</td>\n      <td>2</td>\n      <td>2</td>\n      <td>0</td>\n      <td>2</td>\n    </tr>\n    <tr>\n      <th>3</th>\n      <td>68.8900</td>\n      <td>34.4450</td>\n      <td>4.656964e+08</td>\n      <td>8.955700e+04</td>\n      <td>16.60</td>\n      <td>8.30</td>\n      <td>1.122160e+08</td>\n      <td>21580.0</td>\n      <td>0</td>\n      <td>4</td>\n      <td>27040000</td>\n      <td>17.2225</td>\n      <td>4.15</td>\n      <td>5200</td>\n      <td>2</td>\n      <td>2</td>\n      <td>2</td>\n      <td>0</td>\n      <td>8</td>\n    </tr>\n    <tr>\n      <th>4</th>\n      <td>424.7721</td>\n      <td>141.5907</td>\n      <td>8.504893e+10</td>\n      <td>2.003508e+06</td>\n      <td>61.83</td>\n      <td>20.61</td>\n      <td>1.237976e+10</td>\n      <td>291631.5</td>\n      <td>0</td>\n      <td>9</td>\n      <td>1802002500</td>\n      <td>47.1969</td>\n      <td>6.87</td>\n      <td>42450</td>\n      <td>3</td>\n      <td>2</td>\n      <td>2</td>\n      <td>0</td>\n      <td>5</td>\n    </tr>\n    <tr>\n      <th>...</th>\n      <td>...</td>\n      <td>...</td>\n      <td>...</td>\n      <td>...</td>\n      <td>...</td>\n      <td>...</td>\n      <td>...</td>\n      <td>...</td>\n      <td>...</td>\n      <td>...</td>\n      <td>...</td>\n      <td>...</td>\n      <td>...</td>\n      <td>...</td>\n      <td>...</td>\n      <td>...</td>\n      <td>...</td>\n      <td>...</td>\n      <td>...</td>\n    </tr>\n    <tr>\n      <th>244</th>\n      <td>1211.0400</td>\n      <td>403.6800</td>\n      <td>1.554416e+11</td>\n      <td>4.573425e+06</td>\n      <td>104.40</td>\n      <td>34.80</td>\n      <td>1.340014e+10</td>\n      <td>394260.8</td>\n      <td>0</td>\n      <td>9</td>\n      <td>1155184144</td>\n      <td>134.5600</td>\n      <td>11.60</td>\n      <td>33988</td>\n      <td>3</td>\n      <td>2</td>\n      <td>2</td>\n      <td>0</td>\n      <td>3</td>\n    </tr>\n    <tr>\n      <th>245</th>\n      <td>139.2400</td>\n      <td>69.6200</td>\n      <td>1.253160e+11</td>\n      <td>2.088600e+06</td>\n      <td>23.60</td>\n      <td>11.80</td>\n      <td>2.124000e+10</td>\n      <td>354000.0</td>\n      <td>0</td>\n      <td>4</td>\n      <td>3600000000</td>\n      <td>34.8100</td>\n      <td>5.90</td>\n      <td>60000</td>\n      <td>2</td>\n      <td>2</td>\n      <td>2</td>\n      <td>0</td>\n      <td>4</td>\n    </tr>\n    <tr>\n      <th>246</th>\n      <td>484.0000</td>\n      <td>242.0000</td>\n      <td>9.356190e+11</td>\n      <td>1.064001e+07</td>\n      <td>44.00</td>\n      <td>22.00</td>\n      <td>8.505627e+10</td>\n      <td>967274.0</td>\n      <td>0</td>\n      <td>4</td>\n      <td>7732388356</td>\n      <td>121.0000</td>\n      <td>11.00</td>\n      <td>87934</td>\n      <td>2</td>\n      <td>2</td>\n      <td>2</td>\n      <td>0</td>\n      <td>10</td>\n    </tr>\n    <tr>\n      <th>247</th>\n      <td>1406.2500</td>\n      <td>468.7500</td>\n      <td>1.265625e+10</td>\n      <td>1.406250e+06</td>\n      <td>112.50</td>\n      <td>37.50</td>\n      <td>1.012500e+09</td>\n      <td>112500.0</td>\n      <td>0</td>\n      <td>9</td>\n      <td>81000000</td>\n      <td>156.2500</td>\n      <td>12.50</td>\n      <td>9000</td>\n      <td>3</td>\n      <td>2</td>\n      <td>2</td>\n      <td>0</td>\n      <td>2</td>\n    </tr>\n    <tr>\n      <th>248</th>\n      <td>139.2400</td>\n      <td>69.6200</td>\n      <td>1.039263e+09</td>\n      <td>1.902018e+05</td>\n      <td>23.60</td>\n      <td>11.80</td>\n      <td>1.761462e+08</td>\n      <td>32237.6</td>\n      <td>0</td>\n      <td>4</td>\n      <td>29855296</td>\n      <td>34.8100</td>\n      <td>5.90</td>\n      <td>5464</td>\n      <td>2</td>\n      <td>2</td>\n      <td>2</td>\n      <td>0</td>\n      <td>3</td>\n    </tr>\n  </tbody>\n</table>\n<p>249 rows × 19 columns</p>\n</div>"
     },
     "execution_count": 43,
     "metadata": {},
     "output_type": "execute_result"
    }
   ],
   "source": [
    "df = x[x.index<100]\n",
    "df2 = x[x.index>151]\n",
    "x_new = df.append(df2)\n",
    "x_new.reset_index(drop = True,inplace=True)\n",
    "x_new"
   ],
   "metadata": {
    "collapsed": false,
    "pycharm": {
     "name": "#%%\n"
    }
   }
  },
  {
   "cell_type": "code",
   "execution_count": 44,
   "outputs": [
    {
     "data": {
      "text/plain": "(249,)"
     },
     "execution_count": 44,
     "metadata": {},
     "output_type": "execute_result"
    }
   ],
   "source": [
    "y=data[\"Selling_Price\"]\n",
    "y1 = y[y.index<100]\n",
    "y2 = y[y.index>151]\n",
    "y_new = y1.append(y2)\n",
    "y_new.reset_index(drop = True,inplace = True)\n",
    "y_new.shape"
   ],
   "metadata": {
    "collapsed": false,
    "pycharm": {
     "name": "#%%\n"
    }
   }
  },
  {
   "cell_type": "code",
   "execution_count": 46,
   "outputs": [
    {
     "name": "stdout",
     "output_type": "stream",
     "text": [
      "x train :  (199, 19)\n",
      "x test :  (50, 19)\n",
      "y train (199,)\n",
      "y test (50,)\n",
      "Mean Absolute Error :  0.6748019488517724\n",
      "Mean Squared Error :  0.8403642858190083\n",
      "Root Mean Squared Error :  0.9167138516565616\n",
      "R2 Score :  0.9771365824439258\n"
     ]
    }
   ],
   "source": [
    "x_train, x_test, y_train, y_test = train_test_split ( x_new, y_new, test_size = 0.2, random_state = 0 )\n",
    "Model = LinearRegression ()\n",
    "Model.fit ( x_train, y_train )\n",
    "y_pred = Model.predict ( x_test )\n",
    "print ( \"x train : \", x_train.shape )\n",
    "print ( \"x test : \", x_test.shape )\n",
    "print ( \"y train\", y_train.shape )\n",
    "print ( \"y test\", y_test.shape )\n",
    "print ( \"Mean Absolute Error : \", metrics.mean_absolute_error ( y_test, y_pred ) )\n",
    "print ( \"Mean Squared Error : \", metrics.mean_squared_error ( y_test, y_pred ) )\n",
    "print ( \"Root Mean Squared Error : \", np.sqrt ( metrics.mean_squared_error ( y_test, y_pred ) ) )\n",
    "print ( \"R2 Score : \", metrics.r2_score ( y_test, y_pred ) )"
   ],
   "metadata": {
    "collapsed": false,
    "pycharm": {
     "name": "#%%\n"
    }
   }
  },
  {
   "cell_type": "code",
   "execution_count": null,
   "outputs": [],
   "source": [
    "present_price = 11.23\n",
    "KMS_driven = 42000\n",
    "Fuel_type = 2\n",
    "Seller_type = 2\n",
    "Transmission = 2\n",
    "Owner =1\n",
    "Age = 10"
   ],
   "metadata": {
    "collapsed": false,
    "pycharm": {
     "name": "#%%\n"
    }
   }
  }
 ],
 "metadata": {
  "kernelspec": {
   "display_name": "Python 3",
   "language": "python",
   "name": "python3"
  },
  "language_info": {
   "codemirror_mode": {
    "name": "ipython",
    "version": 2
   },
   "file_extension": ".py",
   "mimetype": "text/x-python",
   "name": "python",
   "nbconvert_exporter": "python",
   "pygments_lexer": "ipython2",
   "version": "2.7.6"
  }
 },
 "nbformat": 4,
 "nbformat_minor": 0
}