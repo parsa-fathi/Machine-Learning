{
 "cells": [
  {
   "cell_type": "code",
   "execution_count": 1,
   "metadata": {},
   "outputs": [],
   "source": [
    "# Importing the libraries\n",
    "\n",
    "import pandas as pd\n",
    "import numpy as np\n",
    "import matplotlib.pyplot as plt\n",
    "import seaborn as sns\n",
    "from sklearn.model_selection import train_test_split\n",
    "from sklearn.linear_model import LinearRegression\n",
    "from sklearn import metrics\n",
    "from sklearn.model_selection import KFold\n",
    "from sklearn.model_selection import cross_val_score\n",
    "from sklearn import preprocessing\n"
   ]
  },
  {
   "cell_type": "code",
   "execution_count": 2,
   "metadata": {},
   "outputs": [],
   "source": [
    "# Reading the csv file\n",
    "data = pd.read_csv(\"cardata.csv\")\n"
   ]
  },
  {
   "cell_type": "code",
   "execution_count": 3,
   "metadata": {},
   "outputs": [
    {
     "data": {
      "text/html": [
       "<div>\n",
       "<style scoped>\n",
       "    .dataframe tbody tr th:only-of-type {\n",
       "        vertical-align: middle;\n",
       "    }\n",
       "\n",
       "    .dataframe tbody tr th {\n",
       "        vertical-align: top;\n",
       "    }\n",
       "\n",
       "    .dataframe thead th {\n",
       "        text-align: right;\n",
       "    }\n",
       "</style>\n",
       "<table border=\"1\" class=\"dataframe\">\n",
       "  <thead>\n",
       "    <tr style=\"text-align: right;\">\n",
       "      <th></th>\n",
       "      <th>Car_Name</th>\n",
       "      <th>Year</th>\n",
       "      <th>Selling_Price</th>\n",
       "      <th>Present_Price</th>\n",
       "      <th>Kms_Driven</th>\n",
       "      <th>Fuel_Type</th>\n",
       "      <th>Seller_Type</th>\n",
       "      <th>Transmission</th>\n",
       "      <th>Owner</th>\n",
       "    </tr>\n",
       "  </thead>\n",
       "  <tbody>\n",
       "    <tr>\n",
       "      <th>0</th>\n",
       "      <td>ritz</td>\n",
       "      <td>2014</td>\n",
       "      <td>3.35</td>\n",
       "      <td>5.59</td>\n",
       "      <td>27000</td>\n",
       "      <td>Petrol</td>\n",
       "      <td>Dealer</td>\n",
       "      <td>Manual</td>\n",
       "      <td>0</td>\n",
       "    </tr>\n",
       "    <tr>\n",
       "      <th>1</th>\n",
       "      <td>sx4</td>\n",
       "      <td>2013</td>\n",
       "      <td>4.75</td>\n",
       "      <td>9.54</td>\n",
       "      <td>43000</td>\n",
       "      <td>Diesel</td>\n",
       "      <td>Dealer</td>\n",
       "      <td>Manual</td>\n",
       "      <td>0</td>\n",
       "    </tr>\n",
       "    <tr>\n",
       "      <th>2</th>\n",
       "      <td>ciaz</td>\n",
       "      <td>2017</td>\n",
       "      <td>7.25</td>\n",
       "      <td>9.85</td>\n",
       "      <td>6900</td>\n",
       "      <td>Petrol</td>\n",
       "      <td>Dealer</td>\n",
       "      <td>Manual</td>\n",
       "      <td>0</td>\n",
       "    </tr>\n",
       "    <tr>\n",
       "      <th>3</th>\n",
       "      <td>wagon r</td>\n",
       "      <td>2011</td>\n",
       "      <td>2.85</td>\n",
       "      <td>4.15</td>\n",
       "      <td>5200</td>\n",
       "      <td>Petrol</td>\n",
       "      <td>Dealer</td>\n",
       "      <td>Manual</td>\n",
       "      <td>0</td>\n",
       "    </tr>\n",
       "    <tr>\n",
       "      <th>4</th>\n",
       "      <td>swift</td>\n",
       "      <td>2014</td>\n",
       "      <td>4.60</td>\n",
       "      <td>6.87</td>\n",
       "      <td>42450</td>\n",
       "      <td>Diesel</td>\n",
       "      <td>Dealer</td>\n",
       "      <td>Manual</td>\n",
       "      <td>0</td>\n",
       "    </tr>\n",
       "    <tr>\n",
       "      <th>...</th>\n",
       "      <td>...</td>\n",
       "      <td>...</td>\n",
       "      <td>...</td>\n",
       "      <td>...</td>\n",
       "      <td>...</td>\n",
       "      <td>...</td>\n",
       "      <td>...</td>\n",
       "      <td>...</td>\n",
       "      <td>...</td>\n",
       "    </tr>\n",
       "    <tr>\n",
       "      <th>296</th>\n",
       "      <td>city</td>\n",
       "      <td>2016</td>\n",
       "      <td>9.50</td>\n",
       "      <td>11.60</td>\n",
       "      <td>33988</td>\n",
       "      <td>Diesel</td>\n",
       "      <td>Dealer</td>\n",
       "      <td>Manual</td>\n",
       "      <td>0</td>\n",
       "    </tr>\n",
       "    <tr>\n",
       "      <th>297</th>\n",
       "      <td>brio</td>\n",
       "      <td>2015</td>\n",
       "      <td>4.00</td>\n",
       "      <td>5.90</td>\n",
       "      <td>60000</td>\n",
       "      <td>Petrol</td>\n",
       "      <td>Dealer</td>\n",
       "      <td>Manual</td>\n",
       "      <td>0</td>\n",
       "    </tr>\n",
       "    <tr>\n",
       "      <th>298</th>\n",
       "      <td>city</td>\n",
       "      <td>2009</td>\n",
       "      <td>3.35</td>\n",
       "      <td>11.00</td>\n",
       "      <td>87934</td>\n",
       "      <td>Petrol</td>\n",
       "      <td>Dealer</td>\n",
       "      <td>Manual</td>\n",
       "      <td>0</td>\n",
       "    </tr>\n",
       "    <tr>\n",
       "      <th>299</th>\n",
       "      <td>city</td>\n",
       "      <td>2017</td>\n",
       "      <td>11.50</td>\n",
       "      <td>12.50</td>\n",
       "      <td>9000</td>\n",
       "      <td>Diesel</td>\n",
       "      <td>Dealer</td>\n",
       "      <td>Manual</td>\n",
       "      <td>0</td>\n",
       "    </tr>\n",
       "    <tr>\n",
       "      <th>300</th>\n",
       "      <td>brio</td>\n",
       "      <td>2016</td>\n",
       "      <td>5.30</td>\n",
       "      <td>5.90</td>\n",
       "      <td>5464</td>\n",
       "      <td>Petrol</td>\n",
       "      <td>Dealer</td>\n",
       "      <td>Manual</td>\n",
       "      <td>0</td>\n",
       "    </tr>\n",
       "  </tbody>\n",
       "</table>\n",
       "<p>301 rows × 9 columns</p>\n",
       "</div>"
      ],
      "text/plain": [
       "    Car_Name  Year  Selling_Price  Present_Price  Kms_Driven Fuel_Type  \\\n",
       "0       ritz  2014           3.35           5.59       27000    Petrol   \n",
       "1        sx4  2013           4.75           9.54       43000    Diesel   \n",
       "2       ciaz  2017           7.25           9.85        6900    Petrol   \n",
       "3    wagon r  2011           2.85           4.15        5200    Petrol   \n",
       "4      swift  2014           4.60           6.87       42450    Diesel   \n",
       "..       ...   ...            ...            ...         ...       ...   \n",
       "296     city  2016           9.50          11.60       33988    Diesel   \n",
       "297     brio  2015           4.00           5.90       60000    Petrol   \n",
       "298     city  2009           3.35          11.00       87934    Petrol   \n",
       "299     city  2017          11.50          12.50        9000    Diesel   \n",
       "300     brio  2016           5.30           5.90        5464    Petrol   \n",
       "\n",
       "    Seller_Type Transmission  Owner  \n",
       "0        Dealer       Manual      0  \n",
       "1        Dealer       Manual      0  \n",
       "2        Dealer       Manual      0  \n",
       "3        Dealer       Manual      0  \n",
       "4        Dealer       Manual      0  \n",
       "..          ...          ...    ...  \n",
       "296      Dealer       Manual      0  \n",
       "297      Dealer       Manual      0  \n",
       "298      Dealer       Manual      0  \n",
       "299      Dealer       Manual      0  \n",
       "300      Dealer       Manual      0  \n",
       "\n",
       "[301 rows x 9 columns]"
      ]
     },
     "execution_count": 3,
     "metadata": {},
     "output_type": "execute_result"
    }
   ],
   "source": [
    "# Making the dataframe\n",
    "\n",
    "df = pd.DataFrame(data)\n",
    "df\n"
   ]
  },
  {
   "cell_type": "code",
   "execution_count": 4,
   "metadata": {},
   "outputs": [
    {
     "data": {
      "text/html": [
       "<div>\n",
       "<style scoped>\n",
       "    .dataframe tbody tr th:only-of-type {\n",
       "        vertical-align: middle;\n",
       "    }\n",
       "\n",
       "    .dataframe tbody tr th {\n",
       "        vertical-align: top;\n",
       "    }\n",
       "\n",
       "    .dataframe thead th {\n",
       "        text-align: right;\n",
       "    }\n",
       "</style>\n",
       "<table border=\"1\" class=\"dataframe\">\n",
       "  <thead>\n",
       "    <tr style=\"text-align: right;\">\n",
       "      <th></th>\n",
       "      <th>Year</th>\n",
       "      <th>Selling_Price</th>\n",
       "      <th>Present_Price</th>\n",
       "      <th>Kms_Driven</th>\n",
       "      <th>Fuel_Type</th>\n",
       "      <th>Seller_Type</th>\n",
       "      <th>Transmission</th>\n",
       "      <th>Owner</th>\n",
       "    </tr>\n",
       "  </thead>\n",
       "  <tbody>\n",
       "    <tr>\n",
       "      <th>0</th>\n",
       "      <td>2014</td>\n",
       "      <td>3.35</td>\n",
       "      <td>5.59</td>\n",
       "      <td>27000</td>\n",
       "      <td>Petrol</td>\n",
       "      <td>Dealer</td>\n",
       "      <td>Manual</td>\n",
       "      <td>0</td>\n",
       "    </tr>\n",
       "    <tr>\n",
       "      <th>1</th>\n",
       "      <td>2013</td>\n",
       "      <td>4.75</td>\n",
       "      <td>9.54</td>\n",
       "      <td>43000</td>\n",
       "      <td>Diesel</td>\n",
       "      <td>Dealer</td>\n",
       "      <td>Manual</td>\n",
       "      <td>0</td>\n",
       "    </tr>\n",
       "    <tr>\n",
       "      <th>2</th>\n",
       "      <td>2017</td>\n",
       "      <td>7.25</td>\n",
       "      <td>9.85</td>\n",
       "      <td>6900</td>\n",
       "      <td>Petrol</td>\n",
       "      <td>Dealer</td>\n",
       "      <td>Manual</td>\n",
       "      <td>0</td>\n",
       "    </tr>\n",
       "    <tr>\n",
       "      <th>3</th>\n",
       "      <td>2011</td>\n",
       "      <td>2.85</td>\n",
       "      <td>4.15</td>\n",
       "      <td>5200</td>\n",
       "      <td>Petrol</td>\n",
       "      <td>Dealer</td>\n",
       "      <td>Manual</td>\n",
       "      <td>0</td>\n",
       "    </tr>\n",
       "    <tr>\n",
       "      <th>4</th>\n",
       "      <td>2014</td>\n",
       "      <td>4.60</td>\n",
       "      <td>6.87</td>\n",
       "      <td>42450</td>\n",
       "      <td>Diesel</td>\n",
       "      <td>Dealer</td>\n",
       "      <td>Manual</td>\n",
       "      <td>0</td>\n",
       "    </tr>\n",
       "    <tr>\n",
       "      <th>...</th>\n",
       "      <td>...</td>\n",
       "      <td>...</td>\n",
       "      <td>...</td>\n",
       "      <td>...</td>\n",
       "      <td>...</td>\n",
       "      <td>...</td>\n",
       "      <td>...</td>\n",
       "      <td>...</td>\n",
       "    </tr>\n",
       "    <tr>\n",
       "      <th>296</th>\n",
       "      <td>2016</td>\n",
       "      <td>9.50</td>\n",
       "      <td>11.60</td>\n",
       "      <td>33988</td>\n",
       "      <td>Diesel</td>\n",
       "      <td>Dealer</td>\n",
       "      <td>Manual</td>\n",
       "      <td>0</td>\n",
       "    </tr>\n",
       "    <tr>\n",
       "      <th>297</th>\n",
       "      <td>2015</td>\n",
       "      <td>4.00</td>\n",
       "      <td>5.90</td>\n",
       "      <td>60000</td>\n",
       "      <td>Petrol</td>\n",
       "      <td>Dealer</td>\n",
       "      <td>Manual</td>\n",
       "      <td>0</td>\n",
       "    </tr>\n",
       "    <tr>\n",
       "      <th>298</th>\n",
       "      <td>2009</td>\n",
       "      <td>3.35</td>\n",
       "      <td>11.00</td>\n",
       "      <td>87934</td>\n",
       "      <td>Petrol</td>\n",
       "      <td>Dealer</td>\n",
       "      <td>Manual</td>\n",
       "      <td>0</td>\n",
       "    </tr>\n",
       "    <tr>\n",
       "      <th>299</th>\n",
       "      <td>2017</td>\n",
       "      <td>11.50</td>\n",
       "      <td>12.50</td>\n",
       "      <td>9000</td>\n",
       "      <td>Diesel</td>\n",
       "      <td>Dealer</td>\n",
       "      <td>Manual</td>\n",
       "      <td>0</td>\n",
       "    </tr>\n",
       "    <tr>\n",
       "      <th>300</th>\n",
       "      <td>2016</td>\n",
       "      <td>5.30</td>\n",
       "      <td>5.90</td>\n",
       "      <td>5464</td>\n",
       "      <td>Petrol</td>\n",
       "      <td>Dealer</td>\n",
       "      <td>Manual</td>\n",
       "      <td>0</td>\n",
       "    </tr>\n",
       "  </tbody>\n",
       "</table>\n",
       "<p>301 rows × 8 columns</p>\n",
       "</div>"
      ],
      "text/plain": [
       "     Year  Selling_Price  Present_Price  Kms_Driven Fuel_Type Seller_Type  \\\n",
       "0    2014           3.35           5.59       27000    Petrol      Dealer   \n",
       "1    2013           4.75           9.54       43000    Diesel      Dealer   \n",
       "2    2017           7.25           9.85        6900    Petrol      Dealer   \n",
       "3    2011           2.85           4.15        5200    Petrol      Dealer   \n",
       "4    2014           4.60           6.87       42450    Diesel      Dealer   \n",
       "..    ...            ...            ...         ...       ...         ...   \n",
       "296  2016           9.50          11.60       33988    Diesel      Dealer   \n",
       "297  2015           4.00           5.90       60000    Petrol      Dealer   \n",
       "298  2009           3.35          11.00       87934    Petrol      Dealer   \n",
       "299  2017          11.50          12.50        9000    Diesel      Dealer   \n",
       "300  2016           5.30           5.90        5464    Petrol      Dealer   \n",
       "\n",
       "    Transmission  Owner  \n",
       "0         Manual      0  \n",
       "1         Manual      0  \n",
       "2         Manual      0  \n",
       "3         Manual      0  \n",
       "4         Manual      0  \n",
       "..           ...    ...  \n",
       "296       Manual      0  \n",
       "297       Manual      0  \n",
       "298       Manual      0  \n",
       "299       Manual      0  \n",
       "300       Manual      0  \n",
       "\n",
       "[301 rows x 8 columns]"
      ]
     },
     "execution_count": 4,
     "metadata": {},
     "output_type": "execute_result"
    }
   ],
   "source": [
    "# Removing the car name feature\n",
    "\n",
    "df.drop(\"Car_Name\", axis=1, inplace=True)\n",
    "df\n"
   ]
  },
  {
   "cell_type": "code",
   "execution_count": 5,
   "metadata": {},
   "outputs": [
    {
     "data": {
      "text/html": [
       "<div>\n",
       "<style scoped>\n",
       "    .dataframe tbody tr th:only-of-type {\n",
       "        vertical-align: middle;\n",
       "    }\n",
       "\n",
       "    .dataframe tbody tr th {\n",
       "        vertical-align: top;\n",
       "    }\n",
       "\n",
       "    .dataframe thead th {\n",
       "        text-align: right;\n",
       "    }\n",
       "</style>\n",
       "<table border=\"1\" class=\"dataframe\">\n",
       "  <thead>\n",
       "    <tr style=\"text-align: right;\">\n",
       "      <th></th>\n",
       "      <th>Year</th>\n",
       "      <th>Selling_Price</th>\n",
       "      <th>Present_Price</th>\n",
       "      <th>Kms_Driven</th>\n",
       "      <th>Owner</th>\n",
       "    </tr>\n",
       "  </thead>\n",
       "  <tbody>\n",
       "    <tr>\n",
       "      <th>count</th>\n",
       "      <td>301.000000</td>\n",
       "      <td>301.000000</td>\n",
       "      <td>301.000000</td>\n",
       "      <td>301.000000</td>\n",
       "      <td>301.000000</td>\n",
       "    </tr>\n",
       "    <tr>\n",
       "      <th>mean</th>\n",
       "      <td>2013.627907</td>\n",
       "      <td>4.661296</td>\n",
       "      <td>7.628472</td>\n",
       "      <td>36947.205980</td>\n",
       "      <td>0.043189</td>\n",
       "    </tr>\n",
       "    <tr>\n",
       "      <th>std</th>\n",
       "      <td>2.891554</td>\n",
       "      <td>5.082812</td>\n",
       "      <td>8.644115</td>\n",
       "      <td>38886.883882</td>\n",
       "      <td>0.247915</td>\n",
       "    </tr>\n",
       "    <tr>\n",
       "      <th>min</th>\n",
       "      <td>2003.000000</td>\n",
       "      <td>0.100000</td>\n",
       "      <td>0.320000</td>\n",
       "      <td>500.000000</td>\n",
       "      <td>0.000000</td>\n",
       "    </tr>\n",
       "    <tr>\n",
       "      <th>25%</th>\n",
       "      <td>2012.000000</td>\n",
       "      <td>0.900000</td>\n",
       "      <td>1.200000</td>\n",
       "      <td>15000.000000</td>\n",
       "      <td>0.000000</td>\n",
       "    </tr>\n",
       "    <tr>\n",
       "      <th>50%</th>\n",
       "      <td>2014.000000</td>\n",
       "      <td>3.600000</td>\n",
       "      <td>6.400000</td>\n",
       "      <td>32000.000000</td>\n",
       "      <td>0.000000</td>\n",
       "    </tr>\n",
       "    <tr>\n",
       "      <th>75%</th>\n",
       "      <td>2016.000000</td>\n",
       "      <td>6.000000</td>\n",
       "      <td>9.900000</td>\n",
       "      <td>48767.000000</td>\n",
       "      <td>0.000000</td>\n",
       "    </tr>\n",
       "    <tr>\n",
       "      <th>max</th>\n",
       "      <td>2018.000000</td>\n",
       "      <td>35.000000</td>\n",
       "      <td>92.600000</td>\n",
       "      <td>500000.000000</td>\n",
       "      <td>3.000000</td>\n",
       "    </tr>\n",
       "  </tbody>\n",
       "</table>\n",
       "</div>"
      ],
      "text/plain": [
       "              Year  Selling_Price  Present_Price     Kms_Driven       Owner\n",
       "count   301.000000     301.000000     301.000000     301.000000  301.000000\n",
       "mean   2013.627907       4.661296       7.628472   36947.205980    0.043189\n",
       "std       2.891554       5.082812       8.644115   38886.883882    0.247915\n",
       "min    2003.000000       0.100000       0.320000     500.000000    0.000000\n",
       "25%    2012.000000       0.900000       1.200000   15000.000000    0.000000\n",
       "50%    2014.000000       3.600000       6.400000   32000.000000    0.000000\n",
       "75%    2016.000000       6.000000       9.900000   48767.000000    0.000000\n",
       "max    2018.000000      35.000000      92.600000  500000.000000    3.000000"
      ]
     },
     "execution_count": 5,
     "metadata": {},
     "output_type": "execute_result"
    }
   ],
   "source": [
    "# Numerical features description\n",
    "\n",
    "df.describe()\n"
   ]
  },
  {
   "cell_type": "code",
   "execution_count": 6,
   "metadata": {},
   "outputs": [
    {
     "data": {
      "text/html": [
       "<div>\n",
       "<style scoped>\n",
       "    .dataframe tbody tr th:only-of-type {\n",
       "        vertical-align: middle;\n",
       "    }\n",
       "\n",
       "    .dataframe tbody tr th {\n",
       "        vertical-align: top;\n",
       "    }\n",
       "\n",
       "    .dataframe thead th {\n",
       "        text-align: right;\n",
       "    }\n",
       "</style>\n",
       "<table border=\"1\" class=\"dataframe\">\n",
       "  <thead>\n",
       "    <tr style=\"text-align: right;\">\n",
       "      <th></th>\n",
       "      <th>Fuel_Type</th>\n",
       "      <th>Seller_Type</th>\n",
       "      <th>Transmission</th>\n",
       "    </tr>\n",
       "  </thead>\n",
       "  <tbody>\n",
       "    <tr>\n",
       "      <th>count</th>\n",
       "      <td>301</td>\n",
       "      <td>301</td>\n",
       "      <td>301</td>\n",
       "    </tr>\n",
       "    <tr>\n",
       "      <th>unique</th>\n",
       "      <td>3</td>\n",
       "      <td>2</td>\n",
       "      <td>2</td>\n",
       "    </tr>\n",
       "    <tr>\n",
       "      <th>top</th>\n",
       "      <td>Petrol</td>\n",
       "      <td>Dealer</td>\n",
       "      <td>Manual</td>\n",
       "    </tr>\n",
       "    <tr>\n",
       "      <th>freq</th>\n",
       "      <td>239</td>\n",
       "      <td>195</td>\n",
       "      <td>261</td>\n",
       "    </tr>\n",
       "  </tbody>\n",
       "</table>\n",
       "</div>"
      ],
      "text/plain": [
       "       Fuel_Type Seller_Type Transmission\n",
       "count        301         301          301\n",
       "unique         3           2            2\n",
       "top       Petrol      Dealer       Manual\n",
       "freq         239         195          261"
      ]
     },
     "execution_count": 6,
     "metadata": {},
     "output_type": "execute_result"
    }
   ],
   "source": [
    "# String based features description\n",
    "\n",
    "df[['Fuel_Type',\n",
    "    'Seller_Type',\n",
    "    'Transmission', ]].describe()\n"
   ]
  },
  {
   "cell_type": "code",
   "execution_count": 7,
   "metadata": {},
   "outputs": [
    {
     "data": {
      "text/html": [
       "<div>\n",
       "<style scoped>\n",
       "    .dataframe tbody tr th:only-of-type {\n",
       "        vertical-align: middle;\n",
       "    }\n",
       "\n",
       "    .dataframe tbody tr th {\n",
       "        vertical-align: top;\n",
       "    }\n",
       "\n",
       "    .dataframe thead th {\n",
       "        text-align: right;\n",
       "    }\n",
       "</style>\n",
       "<table border=\"1\" class=\"dataframe\">\n",
       "  <thead>\n",
       "    <tr style=\"text-align: right;\">\n",
       "      <th></th>\n",
       "      <th>Year</th>\n",
       "      <th>Selling_Price</th>\n",
       "      <th>Present_Price</th>\n",
       "      <th>Kms_Driven</th>\n",
       "      <th>Fuel_Type</th>\n",
       "      <th>Seller_Type</th>\n",
       "      <th>Transmission</th>\n",
       "      <th>Owner</th>\n",
       "    </tr>\n",
       "  </thead>\n",
       "  <tbody>\n",
       "    <tr>\n",
       "      <th>0</th>\n",
       "      <td>2014</td>\n",
       "      <td>3.35</td>\n",
       "      <td>5.59</td>\n",
       "      <td>27000</td>\n",
       "      <td>Petrol</td>\n",
       "      <td>Dealer</td>\n",
       "      <td>Manual</td>\n",
       "      <td>0</td>\n",
       "    </tr>\n",
       "    <tr>\n",
       "      <th>1</th>\n",
       "      <td>2013</td>\n",
       "      <td>4.75</td>\n",
       "      <td>9.54</td>\n",
       "      <td>43000</td>\n",
       "      <td>Diesel</td>\n",
       "      <td>Dealer</td>\n",
       "      <td>Manual</td>\n",
       "      <td>0</td>\n",
       "    </tr>\n",
       "    <tr>\n",
       "      <th>2</th>\n",
       "      <td>2017</td>\n",
       "      <td>7.25</td>\n",
       "      <td>9.85</td>\n",
       "      <td>6900</td>\n",
       "      <td>Petrol</td>\n",
       "      <td>Dealer</td>\n",
       "      <td>Manual</td>\n",
       "      <td>0</td>\n",
       "    </tr>\n",
       "    <tr>\n",
       "      <th>3</th>\n",
       "      <td>2011</td>\n",
       "      <td>2.85</td>\n",
       "      <td>4.15</td>\n",
       "      <td>5200</td>\n",
       "      <td>Petrol</td>\n",
       "      <td>Dealer</td>\n",
       "      <td>Manual</td>\n",
       "      <td>0</td>\n",
       "    </tr>\n",
       "    <tr>\n",
       "      <th>4</th>\n",
       "      <td>2014</td>\n",
       "      <td>4.60</td>\n",
       "      <td>6.87</td>\n",
       "      <td>42450</td>\n",
       "      <td>Diesel</td>\n",
       "      <td>Dealer</td>\n",
       "      <td>Manual</td>\n",
       "      <td>0</td>\n",
       "    </tr>\n",
       "    <tr>\n",
       "      <th>...</th>\n",
       "      <td>...</td>\n",
       "      <td>...</td>\n",
       "      <td>...</td>\n",
       "      <td>...</td>\n",
       "      <td>...</td>\n",
       "      <td>...</td>\n",
       "      <td>...</td>\n",
       "      <td>...</td>\n",
       "    </tr>\n",
       "    <tr>\n",
       "      <th>296</th>\n",
       "      <td>2016</td>\n",
       "      <td>9.50</td>\n",
       "      <td>11.60</td>\n",
       "      <td>33988</td>\n",
       "      <td>Diesel</td>\n",
       "      <td>Dealer</td>\n",
       "      <td>Manual</td>\n",
       "      <td>0</td>\n",
       "    </tr>\n",
       "    <tr>\n",
       "      <th>297</th>\n",
       "      <td>2015</td>\n",
       "      <td>4.00</td>\n",
       "      <td>5.90</td>\n",
       "      <td>60000</td>\n",
       "      <td>Petrol</td>\n",
       "      <td>Dealer</td>\n",
       "      <td>Manual</td>\n",
       "      <td>0</td>\n",
       "    </tr>\n",
       "    <tr>\n",
       "      <th>298</th>\n",
       "      <td>2009</td>\n",
       "      <td>3.35</td>\n",
       "      <td>11.00</td>\n",
       "      <td>87934</td>\n",
       "      <td>Petrol</td>\n",
       "      <td>Dealer</td>\n",
       "      <td>Manual</td>\n",
       "      <td>0</td>\n",
       "    </tr>\n",
       "    <tr>\n",
       "      <th>299</th>\n",
       "      <td>2017</td>\n",
       "      <td>11.50</td>\n",
       "      <td>12.50</td>\n",
       "      <td>9000</td>\n",
       "      <td>Diesel</td>\n",
       "      <td>Dealer</td>\n",
       "      <td>Manual</td>\n",
       "      <td>0</td>\n",
       "    </tr>\n",
       "    <tr>\n",
       "      <th>300</th>\n",
       "      <td>2016</td>\n",
       "      <td>5.30</td>\n",
       "      <td>5.90</td>\n",
       "      <td>5464</td>\n",
       "      <td>Petrol</td>\n",
       "      <td>Dealer</td>\n",
       "      <td>Manual</td>\n",
       "      <td>0</td>\n",
       "    </tr>\n",
       "  </tbody>\n",
       "</table>\n",
       "<p>301 rows × 8 columns</p>\n",
       "</div>"
      ],
      "text/plain": [
       "     Year  Selling_Price  Present_Price  Kms_Driven Fuel_Type Seller_Type  \\\n",
       "0    2014           3.35           5.59       27000    Petrol      Dealer   \n",
       "1    2013           4.75           9.54       43000    Diesel      Dealer   \n",
       "2    2017           7.25           9.85        6900    Petrol      Dealer   \n",
       "3    2011           2.85           4.15        5200    Petrol      Dealer   \n",
       "4    2014           4.60           6.87       42450    Diesel      Dealer   \n",
       "..    ...            ...            ...         ...       ...         ...   \n",
       "296  2016           9.50          11.60       33988    Diesel      Dealer   \n",
       "297  2015           4.00           5.90       60000    Petrol      Dealer   \n",
       "298  2009           3.35          11.00       87934    Petrol      Dealer   \n",
       "299  2017          11.50          12.50        9000    Diesel      Dealer   \n",
       "300  2016           5.30           5.90        5464    Petrol      Dealer   \n",
       "\n",
       "    Transmission  Owner  \n",
       "0         Manual      0  \n",
       "1         Manual      0  \n",
       "2         Manual      0  \n",
       "3         Manual      0  \n",
       "4         Manual      0  \n",
       "..           ...    ...  \n",
       "296       Manual      0  \n",
       "297       Manual      0  \n",
       "298       Manual      0  \n",
       "299       Manual      0  \n",
       "300       Manual      0  \n",
       "\n",
       "[301 rows x 8 columns]"
      ]
     },
     "execution_count": 7,
     "metadata": {},
     "output_type": "execute_result"
    }
   ],
   "source": [
    "df\n"
   ]
  },
  {
   "cell_type": "code",
   "execution_count": 8,
   "metadata": {},
   "outputs": [
    {
     "data": {
      "text/html": [
       "<div>\n",
       "<style scoped>\n",
       "    .dataframe tbody tr th:only-of-type {\n",
       "        vertical-align: middle;\n",
       "    }\n",
       "\n",
       "    .dataframe tbody tr th {\n",
       "        vertical-align: top;\n",
       "    }\n",
       "\n",
       "    .dataframe thead th {\n",
       "        text-align: right;\n",
       "    }\n",
       "</style>\n",
       "<table border=\"1\" class=\"dataframe\">\n",
       "  <thead>\n",
       "    <tr style=\"text-align: right;\">\n",
       "      <th></th>\n",
       "      <th>Year</th>\n",
       "      <th>Present_Price</th>\n",
       "      <th>Kms_Driven</th>\n",
       "      <th>Fuel_Type</th>\n",
       "      <th>Seller_Type</th>\n",
       "      <th>Transmission</th>\n",
       "      <th>Owner</th>\n",
       "      <th>Selling_Price</th>\n",
       "    </tr>\n",
       "  </thead>\n",
       "  <tbody>\n",
       "    <tr>\n",
       "      <th>0</th>\n",
       "      <td>2014</td>\n",
       "      <td>5.59</td>\n",
       "      <td>27000</td>\n",
       "      <td>Petrol</td>\n",
       "      <td>Dealer</td>\n",
       "      <td>Manual</td>\n",
       "      <td>0</td>\n",
       "      <td>3.35</td>\n",
       "    </tr>\n",
       "    <tr>\n",
       "      <th>1</th>\n",
       "      <td>2013</td>\n",
       "      <td>9.54</td>\n",
       "      <td>43000</td>\n",
       "      <td>Diesel</td>\n",
       "      <td>Dealer</td>\n",
       "      <td>Manual</td>\n",
       "      <td>0</td>\n",
       "      <td>4.75</td>\n",
       "    </tr>\n",
       "    <tr>\n",
       "      <th>2</th>\n",
       "      <td>2017</td>\n",
       "      <td>9.85</td>\n",
       "      <td>6900</td>\n",
       "      <td>Petrol</td>\n",
       "      <td>Dealer</td>\n",
       "      <td>Manual</td>\n",
       "      <td>0</td>\n",
       "      <td>7.25</td>\n",
       "    </tr>\n",
       "    <tr>\n",
       "      <th>3</th>\n",
       "      <td>2011</td>\n",
       "      <td>4.15</td>\n",
       "      <td>5200</td>\n",
       "      <td>Petrol</td>\n",
       "      <td>Dealer</td>\n",
       "      <td>Manual</td>\n",
       "      <td>0</td>\n",
       "      <td>2.85</td>\n",
       "    </tr>\n",
       "    <tr>\n",
       "      <th>4</th>\n",
       "      <td>2014</td>\n",
       "      <td>6.87</td>\n",
       "      <td>42450</td>\n",
       "      <td>Diesel</td>\n",
       "      <td>Dealer</td>\n",
       "      <td>Manual</td>\n",
       "      <td>0</td>\n",
       "      <td>4.60</td>\n",
       "    </tr>\n",
       "    <tr>\n",
       "      <th>...</th>\n",
       "      <td>...</td>\n",
       "      <td>...</td>\n",
       "      <td>...</td>\n",
       "      <td>...</td>\n",
       "      <td>...</td>\n",
       "      <td>...</td>\n",
       "      <td>...</td>\n",
       "      <td>...</td>\n",
       "    </tr>\n",
       "    <tr>\n",
       "      <th>296</th>\n",
       "      <td>2016</td>\n",
       "      <td>11.60</td>\n",
       "      <td>33988</td>\n",
       "      <td>Diesel</td>\n",
       "      <td>Dealer</td>\n",
       "      <td>Manual</td>\n",
       "      <td>0</td>\n",
       "      <td>9.50</td>\n",
       "    </tr>\n",
       "    <tr>\n",
       "      <th>297</th>\n",
       "      <td>2015</td>\n",
       "      <td>5.90</td>\n",
       "      <td>60000</td>\n",
       "      <td>Petrol</td>\n",
       "      <td>Dealer</td>\n",
       "      <td>Manual</td>\n",
       "      <td>0</td>\n",
       "      <td>4.00</td>\n",
       "    </tr>\n",
       "    <tr>\n",
       "      <th>298</th>\n",
       "      <td>2009</td>\n",
       "      <td>11.00</td>\n",
       "      <td>87934</td>\n",
       "      <td>Petrol</td>\n",
       "      <td>Dealer</td>\n",
       "      <td>Manual</td>\n",
       "      <td>0</td>\n",
       "      <td>3.35</td>\n",
       "    </tr>\n",
       "    <tr>\n",
       "      <th>299</th>\n",
       "      <td>2017</td>\n",
       "      <td>12.50</td>\n",
       "      <td>9000</td>\n",
       "      <td>Diesel</td>\n",
       "      <td>Dealer</td>\n",
       "      <td>Manual</td>\n",
       "      <td>0</td>\n",
       "      <td>11.50</td>\n",
       "    </tr>\n",
       "    <tr>\n",
       "      <th>300</th>\n",
       "      <td>2016</td>\n",
       "      <td>5.90</td>\n",
       "      <td>5464</td>\n",
       "      <td>Petrol</td>\n",
       "      <td>Dealer</td>\n",
       "      <td>Manual</td>\n",
       "      <td>0</td>\n",
       "      <td>5.30</td>\n",
       "    </tr>\n",
       "  </tbody>\n",
       "</table>\n",
       "<p>301 rows × 8 columns</p>\n",
       "</div>"
      ],
      "text/plain": [
       "     Year  Present_Price  Kms_Driven Fuel_Type Seller_Type Transmission  \\\n",
       "0    2014           5.59       27000    Petrol      Dealer       Manual   \n",
       "1    2013           9.54       43000    Diesel      Dealer       Manual   \n",
       "2    2017           9.85        6900    Petrol      Dealer       Manual   \n",
       "3    2011           4.15        5200    Petrol      Dealer       Manual   \n",
       "4    2014           6.87       42450    Diesel      Dealer       Manual   \n",
       "..    ...            ...         ...       ...         ...          ...   \n",
       "296  2016          11.60       33988    Diesel      Dealer       Manual   \n",
       "297  2015           5.90       60000    Petrol      Dealer       Manual   \n",
       "298  2009          11.00       87934    Petrol      Dealer       Manual   \n",
       "299  2017          12.50        9000    Diesel      Dealer       Manual   \n",
       "300  2016           5.90        5464    Petrol      Dealer       Manual   \n",
       "\n",
       "     Owner  Selling_Price  \n",
       "0        0           3.35  \n",
       "1        0           4.75  \n",
       "2        0           7.25  \n",
       "3        0           2.85  \n",
       "4        0           4.60  \n",
       "..     ...            ...  \n",
       "296      0           9.50  \n",
       "297      0           4.00  \n",
       "298      0           3.35  \n",
       "299      0          11.50  \n",
       "300      0           5.30  \n",
       "\n",
       "[301 rows x 8 columns]"
      ]
     },
     "execution_count": 8,
     "metadata": {},
     "output_type": "execute_result"
    }
   ],
   "source": [
    "# Reordering the columns\n",
    "df = df[['Year',\n",
    "         'Present_Price',\n",
    "         'Kms_Driven',\n",
    "         'Fuel_Type',\n",
    "         'Seller_Type',\n",
    "         'Transmission',\n",
    "         'Owner',\n",
    "         'Selling_Price']]\n",
    "df\n"
   ]
  },
  {
   "cell_type": "code",
   "execution_count": 9,
   "metadata": {},
   "outputs": [
    {
     "data": {
      "image/png": "[encoded data removed]",
      "text/plain": [
       "<Figure size 576x576 with 1 Axes>"
      ]
     },
     "metadata": {
      "needs_background": "light"
     },
     "output_type": "display_data"
    }
   ],
   "source": [
    "#Year and target\n",
    "\n",
    "figure = plt.figure(figsize=(8, 8))\n",
    "x = df.Year\n",
    "y = df.Selling_Price\n",
    "sns.regplot(x=x, y=y)\n",
    "plt.title(str(x.name)+\" and \"+str(y.name))\n",
    "plt.grid()\n",
    "plt.savefig(str(x.name)+\" \"+str(y.name) + \".jpg\")\n"
   ]
  },
  {
   "cell_type": "code",
   "execution_count": 10,
   "metadata": {},
   "outputs": [
    {
     "data": {
      "image/png": "[encoded data removed]",
      "text/plain": [
       "<Figure size 576x576 with 1 Axes>"
      ]
     },
     "metadata": {
      "needs_background": "light"
     },
     "output_type": "display_data"
    }
   ],
   "source": [
    "# Present price and target\n",
    "\n",
    "figure = plt.figure(figsize=(8, 8))\n",
    "x = df.Present_Price\n",
    "y = df.Selling_Price\n",
    "sns.regplot(x=x, y=y)\n",
    "plt.title(str(x.name)+\" and \"+str(y.name))\n",
    "plt.grid()\n",
    "plt.xticks(range(0, 90, 10), rotation=90)\n",
    "plt.savefig(str(x.name)+\" \"+str(y.name) + \".jpg\")\n"
   ]
  },
  {
   "cell_type": "code",
   "execution_count": 11,
   "metadata": {},
   "outputs": [
    {
     "data": {
      "image/png": "[encoded data removed]",
      "text/plain": [
       "<Figure size 576x576 with 1 Axes>"
      ]
     },
     "metadata": {
      "needs_background": "light"
     },
     "output_type": "display_data"
    }
   ],
   "source": [
    "# Kms driven and target\n",
    "\n",
    "figure = plt.figure(figsize=(8, 8))\n",
    "x = df.Kms_Driven\n",
    "y = df.Selling_Price\n",
    "sns.regplot(x=x, y=y)\n",
    "plt.title(str(x.name)+\" and \"+str(y.name))\n",
    "plt.grid()\n",
    "plt.savefig(str(x.name)+\" \"+str(y.name) + \".jpg\")\n"
   ]
  },
  {
   "cell_type": "code",
   "execution_count": 12,
   "metadata": {},
   "outputs": [
    {
     "data": {
      "image/png": "[encoded data removed]",
      "text/plain": [
       "<Figure size 576x576 with 1 Axes>"
      ]
     },
     "metadata": {
      "needs_background": "light"
     },
     "output_type": "display_data"
    }
   ],
   "source": [
    "# Fuel Type and target\n",
    "\n",
    "figure = plt.figure(figsize=(8, 8))\n",
    "x = df.Fuel_Type\n",
    "y = df.Selling_Price\n",
    "sns.scatterplot(x=x, y=y)\n",
    "plt.title(str(x.name)+\" and \"+str(y.name))\n",
    "plt.grid()\n",
    "plt.savefig(str(x.name)+\" \"+str(y.name) + \".jpg\")\n"
   ]
  },
  {
   "cell_type": "code",
   "execution_count": 13,
   "metadata": {},
   "outputs": [
    {
     "data": {
      "image/png": "[encoded data removed]",
      "text/plain": [
       "<Figure size 576x576 with 1 Axes>"
      ]
     },
     "metadata": {
      "needs_background": "light"
     },
     "output_type": "display_data"
    }
   ],
   "source": [
    "# Seller Type and target\n",
    "\n",
    "figure = plt.figure(figsize=(8, 8))\n",
    "x = df.Seller_Type\n",
    "y = df.Selling_Price\n",
    "sns.scatterplot(x=x, y=y)\n",
    "plt.title(str(x.name)+\" and \"+str(y.name))\n",
    "plt.grid()\n",
    "plt.savefig(str(x.name)+\" \"+str(y.name) + \".jpg\")\n"
   ]
  },
  {
   "cell_type": "code",
   "execution_count": 14,
   "metadata": {},
   "outputs": [
    {
     "data": {
      "image/png": "[encoded data removed]",
      "text/plain": [
       "<Figure size 576x576 with 1 Axes>"
      ]
     },
     "metadata": {
      "needs_background": "light"
     },
     "output_type": "display_data"
    }
   ],
   "source": [
    "# Transmission Type and target\n",
    "\n",
    "figure = plt.figure(figsize=(8, 8))\n",
    "x = df.Transmission\n",
    "y = df.Selling_Price\n",
    "sns.scatterplot(x=x, y=y)\n",
    "plt.title(str(x.name)+\" and \"+str(y.name))\n",
    "plt.grid()\n",
    "plt.savefig(str(x.name)+\" \"+str(y.name) + \".jpg\")\n"
   ]
  },
  {
   "cell_type": "code",
   "execution_count": 15,
   "metadata": {},
   "outputs": [
    {
     "data": {
      "image/png": "[encoded data removed]",
      "text/plain": [
       "<Figure size 576x576 with 1 Axes>"
      ]
     },
     "metadata": {
      "needs_background": "light"
     },
     "output_type": "display_data"
    }
   ],
   "source": [
    "#Owner and target\n",
    "\n",
    "figure = plt.figure(figsize=(8, 8))\n",
    "x = df.Owner\n",
    "y = df.Selling_Price\n",
    "sns.scatterplot(x=x, y=y)\n",
    "plt.title(str(x.name)+\" and \"+str(y.name))\n",
    "plt.grid()\n",
    "plt.savefig(str(x.name)+\" \"+str(y.name) + \".jpg\")\n"
   ]
  },
  {
   "cell_type": "markdown",
   "metadata": {},
   "source": [
    "# clearing Noises\n"
   ]
  },
  {
   "cell_type": "code",
   "execution_count": 16,
   "metadata": {},
   "outputs": [
    {
     "name": "stdout",
     "output_type": "stream",
     "text": [
      "Mean Value :  4.661295681063127\n"
     ]
    },
    {
     "data": {
      "text/plain": [
       "86    35.0\n",
       "64    33.0\n",
       "63    23.5\n",
       "51    23.0\n",
       "Name: Selling_Price, dtype: float64"
      ]
     },
     "execution_count": 16,
     "metadata": {},
     "output_type": "execute_result"
    }
   ],
   "source": [
    "# Selling price noise checking\n",
    "\n",
    "df1 = df.copy()\n",
    "print(\"Mean Value : \", df1.Selling_Price.mean())\n",
    "df1.Selling_Price.nlargest(4)\n"
   ]
  },
  {
   "cell_type": "code",
   "execution_count": 17,
   "metadata": {},
   "outputs": [
    {
     "data": {
      "text/plain": [
       "Year               2010\n",
       "Present_Price      92.6\n",
       "Kms_Driven        78000\n",
       "Fuel_Type        Diesel\n",
       "Seller_Type      Dealer\n",
       "Transmission     Manual\n",
       "Owner                 0\n",
       "Selling_Price      35.0\n",
       "Name: 86, dtype: object"
      ]
     },
     "execution_count": 17,
     "metadata": {},
     "output_type": "execute_result"
    }
   ],
   "source": [
    "df1.iloc[86]\n"
   ]
  },
  {
   "cell_type": "code",
   "execution_count": 18,
   "metadata": {},
   "outputs": [
    {
     "data": {
      "text/plain": [
       "Year                  2017\n",
       "Present_Price        36.23\n",
       "Kms_Driven            6000\n",
       "Fuel_Type           Diesel\n",
       "Seller_Type         Dealer\n",
       "Transmission     Automatic\n",
       "Owner                    0\n",
       "Selling_Price         33.0\n",
       "Name: 64, dtype: object"
      ]
     },
     "execution_count": 18,
     "metadata": {},
     "output_type": "execute_result"
    }
   ],
   "source": [
    "df1.iloc[64]\n"
   ]
  },
  {
   "cell_type": "markdown",
   "metadata": {},
   "source": [
    "#### No acceptable evidence were find to remove two above data\n"
   ]
  },
  {
   "cell_type": "code",
   "execution_count": 19,
   "metadata": {},
   "outputs": [
    {
     "data": {
      "text/html": [
       "<div>\n",
       "<style scoped>\n",
       "    .dataframe tbody tr th:only-of-type {\n",
       "        vertical-align: middle;\n",
       "    }\n",
       "\n",
       "    .dataframe tbody tr th {\n",
       "        vertical-align: top;\n",
       "    }\n",
       "\n",
       "    .dataframe thead th {\n",
       "        text-align: right;\n",
       "    }\n",
       "</style>\n",
       "<table border=\"1\" class=\"dataframe\">\n",
       "  <thead>\n",
       "    <tr style=\"text-align: right;\">\n",
       "      <th></th>\n",
       "      <th>Year</th>\n",
       "      <th>Present_Price</th>\n",
       "      <th>Kms_Driven</th>\n",
       "      <th>Fuel_Type</th>\n",
       "      <th>Seller_Type</th>\n",
       "      <th>Transmission</th>\n",
       "      <th>Owner</th>\n",
       "      <th>Selling_Price</th>\n",
       "    </tr>\n",
       "  </thead>\n",
       "  <tbody>\n",
       "    <tr>\n",
       "      <th>196</th>\n",
       "      <td>2008</td>\n",
       "      <td>0.52</td>\n",
       "      <td>500000</td>\n",
       "      <td>Petrol</td>\n",
       "      <td>Individual</td>\n",
       "      <td>Automatic</td>\n",
       "      <td>0</td>\n",
       "      <td>0.17</td>\n",
       "    </tr>\n",
       "  </tbody>\n",
       "</table>\n",
       "</div>"
      ],
      "text/plain": [
       "     Year  Present_Price  Kms_Driven Fuel_Type Seller_Type Transmission  \\\n",
       "196  2008           0.52      500000    Petrol  Individual    Automatic   \n",
       "\n",
       "     Owner  Selling_Price  \n",
       "196      0           0.17  "
      ]
     },
     "execution_count": 19,
     "metadata": {},
     "output_type": "execute_result"
    }
   ],
   "source": [
    "# Kms driven noise checking\n",
    "\n",
    "df[df1.Kms_Driven > 400000]\n"
   ]
  },
  {
   "cell_type": "markdown",
   "metadata": {},
   "source": [
    "#### No noise were found\n"
   ]
  },
  {
   "cell_type": "markdown",
   "metadata": {},
   "source": [
    "# Preprocessing for modeling\n"
   ]
  },
  {
   "cell_type": "code",
   "execution_count": 20,
   "metadata": {},
   "outputs": [
    {
     "data": {
      "text/plain": [
       "2019"
      ]
     },
     "execution_count": 20,
     "metadata": {},
     "output_type": "execute_result"
    }
   ],
   "source": [
    "# Current year\n",
    "\n",
    "now = df1.Year.max() + 1\n",
    "now\n"
   ]
  },
  {
   "cell_type": "code",
   "execution_count": 21,
   "metadata": {},
   "outputs": [
    {
     "data": {
      "text/html": [
       "<div>\n",
       "<style scoped>\n",
       "    .dataframe tbody tr th:only-of-type {\n",
       "        vertical-align: middle;\n",
       "    }\n",
       "\n",
       "    .dataframe tbody tr th {\n",
       "        vertical-align: top;\n",
       "    }\n",
       "\n",
       "    .dataframe thead th {\n",
       "        text-align: right;\n",
       "    }\n",
       "</style>\n",
       "<table border=\"1\" class=\"dataframe\">\n",
       "  <thead>\n",
       "    <tr style=\"text-align: right;\">\n",
       "      <th></th>\n",
       "      <th>Year</th>\n",
       "      <th>Age</th>\n",
       "      <th>Present_Price</th>\n",
       "      <th>Kms_Driven</th>\n",
       "      <th>Fuel_Type</th>\n",
       "      <th>Seller_Type</th>\n",
       "      <th>Transmission</th>\n",
       "      <th>Owner</th>\n",
       "      <th>Selling_Price</th>\n",
       "    </tr>\n",
       "  </thead>\n",
       "  <tbody>\n",
       "    <tr>\n",
       "      <th>0</th>\n",
       "      <td>2014</td>\n",
       "      <td>5</td>\n",
       "      <td>5.59</td>\n",
       "      <td>27000</td>\n",
       "      <td>Petrol</td>\n",
       "      <td>Dealer</td>\n",
       "      <td>Manual</td>\n",
       "      <td>0</td>\n",
       "      <td>3.35</td>\n",
       "    </tr>\n",
       "    <tr>\n",
       "      <th>1</th>\n",
       "      <td>2013</td>\n",
       "      <td>6</td>\n",
       "      <td>9.54</td>\n",
       "      <td>43000</td>\n",
       "      <td>Diesel</td>\n",
       "      <td>Dealer</td>\n",
       "      <td>Manual</td>\n",
       "      <td>0</td>\n",
       "      <td>4.75</td>\n",
       "    </tr>\n",
       "    <tr>\n",
       "      <th>2</th>\n",
       "      <td>2017</td>\n",
       "      <td>2</td>\n",
       "      <td>9.85</td>\n",
       "      <td>6900</td>\n",
       "      <td>Petrol</td>\n",
       "      <td>Dealer</td>\n",
       "      <td>Manual</td>\n",
       "      <td>0</td>\n",
       "      <td>7.25</td>\n",
       "    </tr>\n",
       "    <tr>\n",
       "      <th>3</th>\n",
       "      <td>2011</td>\n",
       "      <td>8</td>\n",
       "      <td>4.15</td>\n",
       "      <td>5200</td>\n",
       "      <td>Petrol</td>\n",
       "      <td>Dealer</td>\n",
       "      <td>Manual</td>\n",
       "      <td>0</td>\n",
       "      <td>2.85</td>\n",
       "    </tr>\n",
       "    <tr>\n",
       "      <th>4</th>\n",
       "      <td>2014</td>\n",
       "      <td>5</td>\n",
       "      <td>6.87</td>\n",
       "      <td>42450</td>\n",
       "      <td>Diesel</td>\n",
       "      <td>Dealer</td>\n",
       "      <td>Manual</td>\n",
       "      <td>0</td>\n",
       "      <td>4.60</td>\n",
       "    </tr>\n",
       "  </tbody>\n",
       "</table>\n",
       "</div>"
      ],
      "text/plain": [
       "   Year  Age  Present_Price  Kms_Driven Fuel_Type Seller_Type Transmission  \\\n",
       "0  2014    5           5.59       27000    Petrol      Dealer       Manual   \n",
       "1  2013    6           9.54       43000    Diesel      Dealer       Manual   \n",
       "2  2017    2           9.85        6900    Petrol      Dealer       Manual   \n",
       "3  2011    8           4.15        5200    Petrol      Dealer       Manual   \n",
       "4  2014    5           6.87       42450    Diesel      Dealer       Manual   \n",
       "\n",
       "   Owner  Selling_Price  \n",
       "0      0           3.35  \n",
       "1      0           4.75  \n",
       "2      0           7.25  \n",
       "3      0           2.85  \n",
       "4      0           4.60  "
      ]
     },
     "execution_count": 21,
     "metadata": {},
     "output_type": "execute_result"
    }
   ],
   "source": [
    "# Calculating the age\n",
    "\n",
    "def Age(year):\n",
    "    return now - year\n",
    "\n",
    "\n",
    "age = df1.Year.apply(Age)\n",
    "AGE = pd.DataFrame(columns=[\"Age\"])\n",
    "AGE.Age = age\n",
    "df1.insert(1, \"Age\", AGE)\n",
    "df1.head()\n"
   ]
  },
  {
   "cell_type": "code",
   "execution_count": 22,
   "metadata": {},
   "outputs": [],
   "source": [
    "# Converting string features to numbers\n",
    "'''\n",
    "Fuel Type : CNG = 1,Diesel = 2,Petrol = 3\n",
    "Seller Type : Dealer = 1,Individual = 2\n",
    "Transmission : Automatic = 1,Manual = 2\n",
    "\n",
    "'''\n",
    "\n",
    "\n",
    "def fuel_convert(fuel):\n",
    "    if fuel == \"CNG\":\n",
    "        return 1\n",
    "    elif fuel == \"Diesel\":\n",
    "        return 2\n",
    "    elif fuel == \"Petrol\":\n",
    "        return 3\n",
    "\n",
    "\n",
    "def seller_convert(seller):\n",
    "    if seller == \"Dealer\":\n",
    "        return 1\n",
    "    elif seller == \"Individual\":\n",
    "        return 2\n",
    "\n",
    "\n",
    "def transmission_convert(transmission):\n",
    "    if transmission == \"Automatic\":\n",
    "        return 1\n",
    "    elif transmission == \"Manual\":\n",
    "        return 2\n",
    "\n",
    "\n",
    "df1.Fuel_Type = df1.Fuel_Type.apply(fuel_convert)\n",
    "df1.Seller_Type = df1.Seller_Type.apply(seller_convert)\n",
    "df1.Transmission = df1.Transmission.apply(transmission_convert)\n"
   ]
  },
  {
   "cell_type": "code",
   "execution_count": 23,
   "metadata": {},
   "outputs": [],
   "source": [
    "#removing nan values \n",
    "DF = df1.dropna()\n",
    "df = DF\n"
   ]
  },
  {
   "cell_type": "code",
   "execution_count": 24,
   "metadata": {},
   "outputs": [],
   "source": [
    "#normalizing the input values\n",
    "\n",
    "Scaler = preprocessing.MinMaxScaler(feature_range=(1, 1000))\n",
    "norm1 = Scaler.fit_transform(DF)\n",
    "norm1_df = pd.DataFrame(norm1, columns=DF.columns.tolist())\n",
    "DF = norm1_df\n"
   ]
  },
  {
   "cell_type": "code",
   "execution_count": 25,
   "metadata": {},
   "outputs": [],
   "source": [
    "#creating x and y for training\n",
    "\n",
    "x = pd.DataFrame(DF, columns=[\n",
    "    'Age',\n",
    "    'Present_Price',\n",
    "    'Kms_Driven',\n",
    "    'Fuel_Type',\n",
    "    'Seller_Type',\n",
    "    'Transmission',\n",
    "    'Owner'])\n",
    "y = DF.Selling_Price\n"
   ]
  },
  {
   "cell_type": "code",
   "execution_count": 26,
   "metadata": {},
   "outputs": [],
   "source": [
    "#creating regression model\n",
    "\n",
    "x_train, x_test, y_train, y_test = train_test_split(\n",
    "    x, y, test_size=0.2, random_state=42)\n",
    "regressor = LinearRegression()\n",
    "regressor.fit(x_train, y_train)\n",
    "y_pred = regressor.predict(x_test)\n"
   ]
  },
  {
   "cell_type": "code",
   "execution_count": 27,
   "metadata": {},
   "outputs": [
    {
     "data": {
      "image/png": "[encoded data removed]",
      "text/plain": [
       "<Figure size 432x288 with 1 Axes>"
      ]
     },
     "metadata": {
      "needs_background": "light"
     },
     "output_type": "display_data"
    }
   ],
   "source": [
    "#predicted values and true values correlation plot\n",
    "\n",
    "sns.regplot(x=y_test, y=y_pred)\n",
    "plt.xlabel(\"test\")\n",
    "plt.ylabel(\"predict\")\n",
    "plt.grid()"
   ]
  },
  {
   "cell_type": "code",
   "execution_count": 28,
   "metadata": {},
   "outputs": [],
   "source": [
    "#creating test and prediction dataframe\n",
    "\n",
    "test = x_test.copy()\n",
    "test.insert(7, \"y_pred\", y_pred)\n",
    "test.insert(8, \"y_test\", y_test)\n"
   ]
  },
  {
   "cell_type": "code",
   "execution_count": 29,
   "metadata": {},
   "outputs": [
    {
     "data": {
      "image/png": "[encoded data removed]",
      "text/plain": [
       "<Figure size 576x576 with 1 Axes>"
      ]
     },
     "metadata": {
      "needs_background": "light"
     },
     "output_type": "display_data"
    }
   ],
   "source": [
    "#Age and selling_price plot\n",
    "\n",
    "feature = \"Age\"\n",
    "test.sort_values(by=[feature], inplace=True)\n",
    "figure = plt.figure(figsize=(8, 8))\n",
    "a = test[feature]\n",
    "b = test.y_pred\n",
    "c = test[feature]\n",
    "d = test.y_test\n",
    "plt.plot(a, b, color=\"red\")\n",
    "plt.scatter(c, d)\n",
    "plt.legend([\"Pred\", \"Real\"])\n",
    "plt.xlabel(feature)\n",
    "plt.ylabel(\"Selling_Price\")\n",
    "plt.title(feature + \" and \"+\"Selling_Price\")\n",
    "plt.grid()\n"
   ]
  },
  {
   "cell_type": "code",
   "execution_count": 30,
   "metadata": {},
   "outputs": [
    {
     "data": {
      "image/png": "[encoded data removed]",
      "text/plain": [
       "<Figure size 576x576 with 1 Axes>"
      ]
     },
     "metadata": {
      "needs_background": "light"
     },
     "output_type": "display_data"
    }
   ],
   "source": [
    "#present price and selling price plot\n",
    "\n",
    "feature = \"Present_Price\"\n",
    "test.sort_values(by=[feature], inplace=True)\n",
    "figure = plt.figure(figsize=(8, 8))\n",
    "a = test[feature]\n",
    "b = test.y_pred\n",
    "c = test[feature]\n",
    "d = test.y_test\n",
    "plt.plot(a, b, color=\"red\")\n",
    "plt.scatter(c, d)\n",
    "plt.legend([\"Pred\", \"Real\"])\n",
    "plt.xlabel(feature)\n",
    "plt.ylabel(\"Selling_Price\")\n",
    "plt.title(feature + \" and \"+\"Selling_Price\")\n",
    "plt.grid()\n"
   ]
  },
  {
   "cell_type": "code",
   "execution_count": 31,
   "metadata": {},
   "outputs": [
    {
     "data": {
      "image/png": "[encoded data removed]",
      "text/plain": [
       "<Figure size 576x576 with 1 Axes>"
      ]
     },
     "metadata": {
      "needs_background": "light"
     },
     "output_type": "display_data"
    }
   ],
   "source": [
    "#kms driven and selling price\n",
    "\n",
    "feature = \"Kms_Driven\"\n",
    "test.sort_values(by=[feature], inplace=True)\n",
    "figure = plt.figure(figsize=(8, 8))\n",
    "a = test[feature]\n",
    "b = test.y_pred\n",
    "c = test[feature]\n",
    "d = test.y_test\n",
    "plt.plot(a, b, color=\"red\")\n",
    "plt.scatter(c, d)\n",
    "plt.legend([\"Pred\", \"Real\"])\n",
    "plt.xlabel(feature)\n",
    "plt.ylabel(\"Selling_Price\")\n",
    "plt.title(feature + \" and \"+\"Selling_Price\")\n",
    "plt.grid()\n"
   ]
  },
  {
   "cell_type": "code",
   "execution_count": 32,
   "metadata": {},
   "outputs": [
    {
     "data": {
      "image/png": "[encoded data removed]",
      "text/plain": [
       "<Figure size 576x576 with 1 Axes>"
      ]
     },
     "metadata": {
      "needs_background": "light"
     },
     "output_type": "display_data"
    }
   ],
   "source": [
    "#fuel type and selling price\n",
    "\n",
    "feature = \"Fuel_Type\"\n",
    "test.sort_values(by=[feature], inplace=True)\n",
    "figure = plt.figure(figsize=(8, 8))\n",
    "a = test[feature]\n",
    "b = test.y_pred\n",
    "c = test[feature]\n",
    "d = test.y_test\n",
    "plt.scatter(a, b, color=\"red\")\n",
    "plt.scatter(c, d)\n",
    "plt.legend([\"Pred\", \"Real\"])\n",
    "plt.xlabel(feature)\n",
    "plt.ylabel(\"Selling_Price\")\n",
    "plt.title(feature + \" and \"+\"Selling_Price\")\n",
    "plt.grid()\n"
   ]
  },
  {
   "cell_type": "code",
   "execution_count": 33,
   "metadata": {},
   "outputs": [
    {
     "data": {
      "image/png": "[encoded data removed]",
      "text/plain": [
       "<Figure size 576x576 with 1 Axes>"
      ]
     },
     "metadata": {
      "needs_background": "light"
     },
     "output_type": "display_data"
    }
   ],
   "source": [
    "#seller type and selling price plot\n",
    "\n",
    "feature = \"Seller_Type\"\n",
    "test.sort_values(by=[feature], inplace=True)\n",
    "figure = plt.figure(figsize=(8, 8))\n",
    "a = test[feature]\n",
    "b = test.y_pred\n",
    "c = test[feature]\n",
    "d = test.y_test\n",
    "plt.scatter(a, b, color=\"red\")\n",
    "plt.scatter(c, d)\n",
    "plt.legend([\"Pred\", \"Real\"])\n",
    "plt.xlabel(feature)\n",
    "plt.ylabel(\"Selling_Price\")\n",
    "plt.title(feature + \" and \"+\"Selling_Price\")\n",
    "plt.grid()\n"
   ]
  },
  {
   "cell_type": "code",
   "execution_count": 34,
   "metadata": {},
   "outputs": [
    {
     "name": "stdout",
     "output_type": "stream",
     "text": [
      "Mean Absolute Error :  34.97248666725043\n",
      "Mean Squared Error :  2891.497547893803\n",
      "Root Mean Squared Error :  53.77264683734476\n",
      "R2 Score :  0.8468053957657422\n"
     ]
    }
   ],
   "source": [
    "#evaluation\n",
    "\n",
    "print(\"Mean Absolute Error : \", metrics.mean_absolute_error(y_test, y_pred))\n",
    "print(\"Mean Squared Error : \", metrics.mean_squared_error(y_test, y_pred))\n",
    "print(\"Root Mean Squared Error : \", np.sqrt(\n",
    "    metrics.mean_squared_error(y_test, y_pred)))\n",
    "print(\"R2 Score : \", metrics.r2_score(y_test, y_pred))\n"
   ]
  },
  {
   "cell_type": "code",
   "execution_count": 35,
   "metadata": {},
   "outputs": [
    {
     "name": "stdout",
     "output_type": "stream",
     "text": [
      "==============================================\n",
      "Order = 2\n",
      "Mean Absolute Error :  30.9818780585506\n",
      "Mean Squared Error :  1518.3196110902636\n",
      "Root Mean Squared Error :  38.96562088675431\n",
      "R2 Score :  0.9266918808384212\n",
      "==============================================\n",
      "Order = 3\n",
      "Mean Absolute Error :  31.117049030015647\n",
      "Mean Squared Error :  1639.4905921588177\n",
      "Root Mean Squared Error :  40.49062350913873\n",
      "R2 Score :  0.920841454713239\n",
      "==============================================\n",
      "Order = 4\n",
      "Mean Absolute Error :  31.893207090240644\n",
      "Mean Squared Error :  2237.542668637337\n",
      "Root Mean Squared Error :  47.30267084042229\n",
      "R2 Score :  0.8919660634141467\n",
      "==============================================\n",
      "Order = 5\n",
      "Mean Absolute Error :  31.810593391503765\n",
      "Mean Squared Error :  2228.5353452146437\n",
      "Root Mean Squared Error :  47.207365370402144\n",
      "R2 Score :  0.8924009586325017\n",
      "==============================================\n",
      "Order = 6\n",
      "Mean Absolute Error :  31.217584000710367\n",
      "Mean Squared Error :  2130.141289185768\n",
      "Root Mean Squared Error :  46.153453708100415\n",
      "R2 Score :  0.8971516600865759\n",
      "==============================================\n",
      "Order = 7\n",
      "Mean Absolute Error :  32.58299875740777\n",
      "Mean Squared Error :  2277.574036731111\n",
      "Root Mean Squared Error :  47.72393567939584\n",
      "R2 Score :  0.89003325277205\n",
      "==============================================\n",
      "Order = 8\n",
      "Mean Absolute Error :  36.19378425837845\n",
      "Mean Squared Error :  3347.6201117264395\n",
      "Root Mean Squared Error :  57.85862175792334\n",
      "R2 Score :  0.8383688570801513\n",
      "==============================================\n",
      "Order = 9\n",
      "Mean Absolute Error :  30.607863180548645\n",
      "Mean Squared Error :  2033.286874963784\n",
      "Root Mean Squared Error :  45.09198238006158\n",
      "R2 Score :  0.9018280239346406\n",
      "==============================================\n",
      "Order = 10\n",
      "Mean Absolute Error :  35.186114699059694\n",
      "Mean Squared Error :  4087.131440878751\n",
      "Root Mean Squared Error :  63.9306768373271\n",
      "R2 Score :  0.8026634731525164\n",
      "==============================================\n",
      "Order = 11\n",
      "Mean Absolute Error :  32.94551034732362\n",
      "Mean Squared Error :  2575.4108282872157\n",
      "Root Mean Squared Error :  50.74850567541093\n",
      "R2 Score :  0.8756529768099823\n"
     ]
    }
   ],
   "source": [
    "#finding the best order of equations\n",
    "\n",
    "columns = DF.columns.tolist()\n",
    "columns.remove(\"Year\")\n",
    "columns.remove(\"Selling_Price\")\n",
    "dftest = DF.copy()\n",
    "for i in range(2,12):\n",
    "    print(\"==============================================\")\n",
    "    print(\"Order = \"+str(i))\n",
    "    for c in columns :\n",
    "        tmp = dftest[c]**i\n",
    "        dftest.insert((len(dftest.columns)-2),(c+str(i)),tmp)\n",
    "    Scaler = preprocessing.MinMaxScaler(feature_range=(1,1000))\n",
    "    norm1 = Scaler.fit_transform(dftest)\n",
    "    norm1_df = pd.DataFrame(norm1,columns=dftest.columns.tolist())\n",
    "    dftest = norm1_df\n",
    "    traincolumns = dftest.columns.tolist()\n",
    "    traincolumns.remove(\"Year\")\n",
    "    traincolumns.remove(\"Selling_Price\")\n",
    "    x=dftest[traincolumns]\n",
    "    y = dftest.Selling_Price\n",
    "    x_train, x_test, y_train, y_test = train_test_split(\n",
    "    x, y, test_size=0.20, random_state=0)\n",
    "    regressor = LinearRegression()\n",
    "    regressor.fit(x_train, y_train)\n",
    "    y_pred = regressor.predict(x_test)\n",
    "    print(\"Mean Absolute Error : \", metrics.mean_absolute_error(y_test, y_pred))\n",
    "    print(\"Mean Squared Error : \", metrics.mean_squared_error(y_test, y_pred))\n",
    "    print(\"Root Mean Squared Error : \", np.sqrt(\n",
    "        metrics.mean_squared_error(y_test, y_pred)))\n",
    "    print(\"R2 Score : \", metrics.r2_score(y_test, y_pred))\n",
    "    \n",
    "    "
   ]
  },
  {
   "cell_type": "code",
   "execution_count": 36,
   "metadata": {},
   "outputs": [
    {
     "name": "stdout",
     "output_type": "stream",
     "text": [
      "==============================================\n",
      "Order = 2\n",
      "Mean Absolute Error :  28.969480974390706\n",
      "Mean Squared Error :  1375.6449351465853\n",
      "Root Mean Squared Error :  37.089687719723194\n",
      "R2 Score :  0.9335805570229488\n"
     ]
    }
   ],
   "source": [
    "#improving the accuracy of the equation\n",
    "\n",
    "columns = DF.columns.tolist()\n",
    "columns.remove(\"Year\")\n",
    "columns.remove(\"Selling_Price\")\n",
    "dftest = DF.copy()\n",
    "for i in range(2, 3):\n",
    "    print(\"==============================================\")\n",
    "    print(\"Order = \"+str(i))\n",
    "    for c in columns:\n",
    "        tmp = dftest[c]**i\n",
    "        dftest.insert((len(dftest.columns)-2), (c+str(i)), tmp)\n",
    "    dftest.insert((len(dftest.columns)-2), \"sin(Kms_Driven)\",\n",
    "                  np.sin((2*np.pi*dftest.Kms_Driven)/290))\n",
    "    Scaler = preprocessing.MinMaxScaler(feature_range=(1, 1000))\n",
    "    norm1 = Scaler.fit_transform(dftest)\n",
    "    norm1_df = pd.DataFrame(norm1, columns=dftest.columns.tolist())\n",
    "    dftest = norm1_df\n",
    "    traincolumns = dftest.columns.tolist()\n",
    "    traincolumns.remove(\"Year\")\n",
    "    traincolumns.remove(\"Selling_Price\")\n",
    "    x = dftest[traincolumns]\n",
    "    y = dftest.Selling_Price\n",
    "    x_train, x_test, y_train, y_test = train_test_split(\n",
    "        x, y, test_size=0.20, random_state=0)\n",
    "    regressor = LinearRegression()\n",
    "    regressor.fit(x_train, y_train)\n",
    "    y_pred = regressor.predict(x_test)\n",
    "    print(\"Mean Absolute Error : \", metrics.mean_absolute_error(y_test, y_pred))\n",
    "    print(\"Mean Squared Error : \", metrics.mean_squared_error(y_test, y_pred))\n",
    "    print(\"Root Mean Squared Error : \", np.sqrt(\n",
    "        metrics.mean_squared_error(y_test, y_pred)))\n",
    "    print(\"R2 Score : \", metrics.r2_score(y_test, y_pred))\n"
   ]
  },
  {
   "cell_type": "code",
   "execution_count": 37,
   "metadata": {},
   "outputs": [],
   "source": [
    "#converting negative values to positive in order to improve the accuracy\n",
    "\n",
    "y_pred = pd.DataFrame(y_pred, columns=[\"val\"])\n",
    "\n",
    "\n",
    "def positive(number):\n",
    "    if number < 0:\n",
    "        return 0\n",
    "    return number\n",
    "\n",
    "\n",
    "y_pred = y_pred.val.apply(positive)\n",
    "y_pred = y_pred.tolist()\n"
   ]
  },
  {
   "cell_type": "code",
   "execution_count": 38,
   "metadata": {},
   "outputs": [
    {
     "name": "stdout",
     "output_type": "stream",
     "text": [
      "Mean Absolute Error :  25.79899697760473\n",
      "Mean Squared Error :  1135.1644149978733\n",
      "Root Mean Squared Error :  33.69220110051989\n",
      "R2 Score :  0.9451915343812939\n"
     ]
    }
   ],
   "source": [
    "#evaluation\n",
    "\n",
    "print(\"Mean Absolute Error : \", metrics.mean_absolute_error(y_test, y_pred))\n",
    "print(\"Mean Squared Error : \", metrics.mean_squared_error(y_test, y_pred))\n",
    "print(\"Root Mean Squared Error : \", np.sqrt(\n",
    "    metrics.mean_squared_error(y_test, y_pred)))\n",
    "print(\"R2 Score : \", metrics.r2_score(y_test, y_pred))\n"
   ]
  },
  {
   "cell_type": "code",
   "execution_count": 39,
   "metadata": {},
   "outputs": [
    {
     "name": "stdout",
     "output_type": "stream",
     "text": [
      "[ 7.17968899e-01  9.01797012e-01  6.81712696e-01  8.87701056e-01\n",
      " -4.65467686e+01 -1.10815473e+03 -2.28408361e+00  8.07060538e-01\n",
      "  8.86603655e-01  9.03824843e-01]\n",
      "-115.11989140918027\n"
     ]
    }
   ],
   "source": [
    "#cross validation checking\n",
    "\n",
    "kfold_validation = KFold(10)\n",
    "result = cross_val_score(regressor, x, y, cv=kfold_validation)\n",
    "print(result)\n",
    "print(np.mean(result))\n"
   ]
  },
  {
   "cell_type": "code",
   "execution_count": 40,
   "metadata": {},
   "outputs": [],
   "source": [
    "#remove a fold to check if the accuracy improves or not but failed!!!\n",
    "\n",
    "\n",
    "\n",
    "# DF = pd.concat([DF.loc[0:150],DF.loc[181:]])\n",
    "# DF.reset_index(inplace=True)\n"
   ]
  },
  {
   "cell_type": "code",
   "execution_count": 41,
   "metadata": {},
   "outputs": [],
   "source": [
    "#remove a fold to check if the accuracy improves or not but failed!!!\n",
    "\n",
    "\n",
    "# columns = DF.columns.tolist()\n",
    "# columns.remove(\"Year\")\n",
    "# columns.remove(\"Selling_Price\")\n",
    "# dftest = DF.copy()\n",
    "# for i in range(2,3):\n",
    "#     print(\"==============================================\")\n",
    "#     print(\"Order = \"+str(i))\n",
    "#     for c in columns :\n",
    "#         tmp = dftest[c]**i\n",
    "#         dftest.insert((len(dftest.columns)-2),(c+str(i)),tmp)\n",
    "#     dftest.insert((len(dftest.columns)-2),\"sin(Kms_Driven)\",np.sin((2*np.pi*dftest.Kms_Driven)/290))\n",
    "#     Scaler = preprocessing.MinMaxScaler(feature_range=(1,1000))\n",
    "#     norm1 = Scaler.fit_transform(dftest)\n",
    "#     norm1_df = pd.DataFrame(norm1,columns=dftest.columns.tolist())\n",
    "#     dftest = norm1_df\n",
    "#     traincolumns = dftest.columns.tolist()\n",
    "#     traincolumns.remove(\"Year\")\n",
    "#     traincolumns.remove(\"Selling_Price\")\n",
    "#     x=dftest[traincolumns]\n",
    "#     y = dftest.Selling_Price\n",
    "#     x_train, x_test, y_train, y_test = train_test_split(\n",
    "#     x, y, test_size=0.25, random_state=1150)\n",
    "#     regressor = LinearRegression()\n",
    "#     regressor.fit(x_train, y_train)\n",
    "#     y_pred = regressor.predict(x_test)\n",
    "#     print(\"Mean Absolute Error : \", metrics.mean_absolute_error(y_test, y_pred))\n",
    "#     print(\"Mean Squared Error : \", metrics.mean_squared_error(y_test, y_pred))\n",
    "#     print(\"Root Mean Squared Error : \", np.sqrt(\n",
    "#         metrics.mean_squared_error(y_test, y_pred)))\n",
    "#     print(\"R2 Score : \", metrics.r2_score(y_test, y_pred))\n",
    "# y_pred = pd.DataFrame(y_pred, columns=[\"val\"])\n",
    "\n",
    "\n",
    "# def positive(number):\n",
    "#     if number < 0:\n",
    "#         return 0\n",
    "#     return number\n",
    "\n",
    "\n",
    "# y_pred = y_pred.val.apply(positive)\n",
    "# y_pred = y_pred.tolist()\n",
    "# print(\"Mean Absolute Error : \", metrics.mean_absolute_error(y_test, y_pred))\n",
    "# print(\"Mean Squared Error : \", metrics.mean_squared_error(y_test, y_pred))\n",
    "# print(\"Root Mean Squared Error : \", np.sqrt(\n",
    "#     metrics.mean_squared_error(y_test, y_pred)))\n",
    "# print(\"R2 Score : \", metrics.r2_score(y_test, y_pred))\n"
   ]
  },
  {
   "cell_type": "code",
   "execution_count": 42,
   "metadata": {},
   "outputs": [
    {
     "data": {
      "image/png": "[encoded data removed]",
      "text/plain": [
       "<Figure size 432x288 with 1 Axes>"
      ]
     },
     "metadata": {
      "needs_background": "light"
     },
     "output_type": "display_data"
    }
   ],
   "source": [
    "#predicted values and true values correlation plot\n",
    "\n",
    "sns.regplot(x=y_test, y=y_pred)\n",
    "plt.xlabel(\"test\")\n",
    "plt.ylabel(\"predict\")\n",
    "plt.grid()\n"
   ]
  },
  {
   "cell_type": "code",
   "execution_count": 43,
   "metadata": {},
   "outputs": [],
   "source": [
    "#creating the test and predicted values dataframe\n",
    "\n",
    "test = x_test.copy()\n",
    "test.insert(7, \"y_pred\", y_pred)\n",
    "test.insert(8, \"y_test\", y_test)\n"
   ]
  },
  {
   "cell_type": "code",
   "execution_count": 44,
   "metadata": {},
   "outputs": [
    {
     "data": {
      "image/png": "[encoded data removed]",
      "text/plain": [
       "<Figure size 576x576 with 1 Axes>"
      ]
     },
     "metadata": {
      "needs_background": "light"
     },
     "output_type": "display_data"
    }
   ],
   "source": [
    "#ploting the Age and selling price plot\n",
    "\n",
    "feature = \"Age\"\n",
    "test.sort_values(by=[feature], inplace=True)\n",
    "figure = plt.figure(figsize=(8, 8))\n",
    "a = test[feature]\n",
    "b = test.y_pred\n",
    "c = test[feature]\n",
    "d = test.y_test\n",
    "plt.plot(a, b, color=\"red\")\n",
    "plt.scatter(c, d)\n",
    "plt.legend([\"Pred\", \"Real\"])\n",
    "plt.xlabel(feature)\n",
    "plt.ylabel(\"Selling_Price\")\n",
    "plt.title(feature + \" and \"+\"Selling_Price\")\n",
    "plt.grid()\n"
   ]
  },
  {
   "cell_type": "code",
   "execution_count": 45,
   "metadata": {},
   "outputs": [
    {
     "name": "stdout",
     "output_type": "stream",
     "text": [
      "==============================================\n",
      "Order = 2\n",
      "[-3.21666286e-01  1.70435294e+00 -4.59311976e-01  2.21262979e-01\n",
      " -6.37387666e-10 -2.00638514e-08  2.52059633e-04 -6.22514383e-04\n",
      "  4.74288887e-04 -2.12862150e-04 -6.36717076e-07 -2.00838556e-05\n",
      " -3.68120225e-04  3.26818517e+01  1.53105897e-01]\n"
     ]
    }
   ],
   "source": [
    "# modeling with all data\n",
    "\n",
    "\n",
    "columns = DF.columns.tolist()\n",
    "columns.remove(\"Year\")\n",
    "columns.remove(\"Selling_Price\")\n",
    "dftest = DF.copy()\n",
    "for i in range(2, 3):\n",
    "    print(\"==============================================\")\n",
    "    print(\"Order = \"+str(i))\n",
    "    for c in columns:\n",
    "        tmp = dftest[c]**i\n",
    "        dftest.insert((len(dftest.columns)-2), (c+str(i)), tmp)\n",
    "    dftest.insert((len(dftest.columns)-2), \"sin(Kms_Driven)\",\n",
    "                  np.sin((2*np.pi*dftest.Kms_Driven)/290))\n",
    "    traincolumns = dftest.columns.tolist()\n",
    "    traincolumns.remove(\"Year\")\n",
    "    traincolumns.remove(\"Selling_Price\")\n",
    "    x = dftest[traincolumns]\n",
    "    y = dftest.Selling_Price\n",
    "    regressor = LinearRegression()\n",
    "    regressor.fit(x, y)\n",
    "print(regressor.coef_)\n"
   ]
  },
  {
   "cell_type": "code",
   "execution_count": 46,
   "metadata": {},
   "outputs": [],
   "source": [
    "#de normalisation\n",
    "\n",
    "Scaler = preprocessing.MinMaxScaler(feature_range=(1, 1000))\n",
    "y_pred = np.array(y_pred)\n",
    "y_pred = y_pred.reshape(-1, 1)\n",
    "norm1 = Scaler.fit_transform(y_pred)\n",
    "y_pred = np.array(y_pred)\n",
    "y_pred = y_pred.reshape(-1, 1)\n",
    "y_pred = Scaler.inverse_transform(y_pred)\n"
   ]
  },
  {
   "cell_type": "code",
   "execution_count": 47,
   "metadata": {},
   "outputs": [],
   "source": [
    "#converting the test \n",
    "\n",
    "y_test = np.array(y_test)\n",
    "y_test = y_test.reshape(-1, 1)\n",
    "y_test = Scaler.inverse_transform(y_test)\n"
   ]
  },
  {
   "cell_type": "code",
   "execution_count": 48,
   "metadata": {},
   "outputs": [
    {
     "name": "stdout",
     "output_type": "stream",
     "text": [
      "Mean Absolute Error :  16.402743889584613\n",
      "Mean Squared Error :  458.86626783798494\n",
      "Root Mean Squared Error :  21.42116401687791\n",
      "R2 Score :  0.9451915343812939\n"
     ]
    }
   ],
   "source": [
    "#evaluation after de normalization\n",
    "\n",
    "print(\"Mean Absolute Error : \", metrics.mean_absolute_error(y_test, y_pred))\n",
    "print(\"Mean Squared Error : \", metrics.mean_squared_error(y_test, y_pred))\n",
    "print(\"Root Mean Squared Error : \", np.sqrt(\n",
    "    metrics.mean_squared_error(y_test, y_pred)))\n",
    "print(\"R2 Score : \", metrics.r2_score(y_test, y_pred))\n"
   ]
  },
  {
   "cell_type": "code",
   "execution_count": 49,
   "metadata": {},
   "outputs": [],
   "source": [
    "#creating the test and predicted values dataframe\n",
    "\n",
    "pd5 = pd.DataFrame(y_test, columns=[\"Real\"])\n",
    "pd5.insert(1, \"predict\", y_pred)\n"
   ]
  },
  {
   "cell_type": "code",
   "execution_count": 50,
   "metadata": {},
   "outputs": [
    {
     "data": {
      "text/html": [
       "<div>\n",
       "<style scoped>\n",
       "    .dataframe tbody tr th:only-of-type {\n",
       "        vertical-align: middle;\n",
       "    }\n",
       "\n",
       "    .dataframe tbody tr th {\n",
       "        vertical-align: top;\n",
       "    }\n",
       "\n",
       "    .dataframe thead th {\n",
       "        text-align: right;\n",
       "    }\n",
       "</style>\n",
       "<table border=\"1\" class=\"dataframe\">\n",
       "  <thead>\n",
       "    <tr style=\"text-align: right;\">\n",
       "      <th></th>\n",
       "      <th>Real</th>\n",
       "      <th>predict</th>\n",
       "    </tr>\n",
       "  </thead>\n",
       "  <tbody>\n",
       "    <tr>\n",
       "      <th>0</th>\n",
       "      <td>148.323974</td>\n",
       "      <td>120.106504</td>\n",
       "    </tr>\n",
       "    <tr>\n",
       "      <th>1</th>\n",
       "      <td>7.279704</td>\n",
       "      <td>-0.635790</td>\n",
       "    </tr>\n",
       "    <tr>\n",
       "      <th>2</th>\n",
       "      <td>93.726192</td>\n",
       "      <td>71.623881</td>\n",
       "    </tr>\n",
       "    <tr>\n",
       "      <th>3</th>\n",
       "      <td>171.073050</td>\n",
       "      <td>178.367916</td>\n",
       "    </tr>\n",
       "    <tr>\n",
       "      <th>4</th>\n",
       "      <td>325.766765</td>\n",
       "      <td>288.541237</td>\n",
       "    </tr>\n",
       "    <tr>\n",
       "      <th>5</th>\n",
       "      <td>98.276007</td>\n",
       "      <td>82.566614</td>\n",
       "    </tr>\n",
       "    <tr>\n",
       "      <th>6</th>\n",
       "      <td>66.427301</td>\n",
       "      <td>58.841677</td>\n",
       "    </tr>\n",
       "    <tr>\n",
       "      <th>7</th>\n",
       "      <td>6.369741</td>\n",
       "      <td>19.338609</td>\n",
       "    </tr>\n",
       "    <tr>\n",
       "      <th>8</th>\n",
       "      <td>80.076747</td>\n",
       "      <td>78.200563</td>\n",
       "    </tr>\n",
       "    <tr>\n",
       "      <th>9</th>\n",
       "      <td>80.076747</td>\n",
       "      <td>86.876450</td>\n",
       "    </tr>\n",
       "    <tr>\n",
       "      <th>10</th>\n",
       "      <td>47.318078</td>\n",
       "      <td>33.207162</td>\n",
       "    </tr>\n",
       "    <tr>\n",
       "      <th>11</th>\n",
       "      <td>11.283542</td>\n",
       "      <td>23.836277</td>\n",
       "    </tr>\n",
       "    <tr>\n",
       "      <th>12</th>\n",
       "      <td>93.726192</td>\n",
       "      <td>94.176524</td>\n",
       "    </tr>\n",
       "    <tr>\n",
       "      <th>13</th>\n",
       "      <td>134.674528</td>\n",
       "      <td>130.170653</td>\n",
       "    </tr>\n",
       "    <tr>\n",
       "      <th>14</th>\n",
       "      <td>139.224344</td>\n",
       "      <td>164.401678</td>\n",
       "    </tr>\n",
       "    <tr>\n",
       "      <th>15</th>\n",
       "      <td>357.615471</td>\n",
       "      <td>286.117393</td>\n",
       "    </tr>\n",
       "    <tr>\n",
       "      <th>16</th>\n",
       "      <td>132.854602</td>\n",
       "      <td>124.986577</td>\n",
       "    </tr>\n",
       "    <tr>\n",
       "      <th>17</th>\n",
       "      <td>84.626562</td>\n",
       "      <td>68.848541</td>\n",
       "    </tr>\n",
       "    <tr>\n",
       "      <th>18</th>\n",
       "      <td>4.549815</td>\n",
       "      <td>-0.635790</td>\n",
       "    </tr>\n",
       "    <tr>\n",
       "      <th>19</th>\n",
       "      <td>29.118817</td>\n",
       "      <td>46.130664</td>\n",
       "    </tr>\n",
       "  </tbody>\n",
       "</table>\n",
       "</div>"
      ],
      "text/plain": [
       "          Real     predict\n",
       "0   148.323974  120.106504\n",
       "1     7.279704   -0.635790\n",
       "2    93.726192   71.623881\n",
       "3   171.073050  178.367916\n",
       "4   325.766765  288.541237\n",
       "5    98.276007   82.566614\n",
       "6    66.427301   58.841677\n",
       "7     6.369741   19.338609\n",
       "8    80.076747   78.200563\n",
       "9    80.076747   86.876450\n",
       "10   47.318078   33.207162\n",
       "11   11.283542   23.836277\n",
       "12   93.726192   94.176524\n",
       "13  134.674528  130.170653\n",
       "14  139.224344  164.401678\n",
       "15  357.615471  286.117393\n",
       "16  132.854602  124.986577\n",
       "17   84.626562   68.848541\n",
       "18    4.549815   -0.635790\n",
       "19   29.118817   46.130664"
      ]
     },
     "execution_count": 50,
     "metadata": {},
     "output_type": "execute_result"
    }
   ],
   "source": [
    "#dataframe\n",
    "\n",
    "pd5.head(20)\n"
   ]
  },
  {
   "cell_type": "code",
   "execution_count": 51,
   "metadata": {},
   "outputs": [
    {
     "name": "stdout",
     "output_type": "stream",
     "text": [
      "Enter the car car build year : 2009\n",
      "Enter the present_price : 11.23\n",
      "Enter the Kms_driven : 42000\n",
      "Enter the fuel_type (Fuel Type : CNG = 1,Diesel = 2,Petrol = 3 ) : 3\n",
      "Enter the seller_type ( Seller Type : Dealer = 1,Individual = 2 ) : 1\n",
      "Enter the transmission ( Transmission : Automatic = 1,Manual = 2 ) : 2\n",
      "Enter owner : 1\n",
      "The selling_price is estimated :  [5.48187762]\n"
     ]
    }
   ],
   "source": [
    "#The final step : geting data from user and normalize it and after that predicting the value and after that de normalizing the answer\n",
    "\n",
    "\n",
    "year = int(input(\"Enter the car car build year : \"))\n",
    "age = 2019 - year\n",
    "present_price = float(input(\"Enter the present_price : \"))\n",
    "kms_driven = int(input(\"Enter the Kms_driven : \"))\n",
    "fuel_type = int(\n",
    "    input(\"Enter the fuel_type (Fuel Type : CNG = 1,Diesel = 2,Petrol = 3 ) : \"))\n",
    "seller_type = int(\n",
    "    input(\"Enter the seller_type ( Seller Type : Dealer = 1,Individual = 2 ) : \"))\n",
    "transmission = int(\n",
    "    input(\"Enter the transmission ( Transmission : Automatic = 1,Manual = 2 ) : \"))\n",
    "owner = int(input(\"Enter owner : \"))\n",
    "\n",
    "inputs = pd.DataFrame(columns=['Year',\n",
    "                               'Age',\n",
    "                               'Present_Price',\n",
    "                               'Kms_Driven',\n",
    "                               'Fuel_Type',\n",
    "                               'Seller_Type',\n",
    "                               'Transmission',\n",
    "                               'Owner'])\n",
    "inputs.loc[0] = [year, age, present_price, kms_driven,\n",
    "                 fuel_type, seller_type, transmission, owner]\n",
    "inputs.loc[1] = [df.Year.max(), df.Age.max(), df.Present_Price.max(), df.Kms_Driven.max(\n",
    "), df.Fuel_Type.max(), df.Seller_Type.max(), df.Transmission.max(), df.Owner.max()]\n",
    "inputs.loc[2] = [df.Year.min(), df.Age.min(), df.Present_Price.min(), df.Kms_Driven.min(\n",
    "), df.Fuel_Type.min(), df.Seller_Type.min(), df.Transmission.min(), df.Owner.min()]\n",
    "Scaler = preprocessing.MinMaxScaler(feature_range=(1, 1000))\n",
    "norm = Scaler.fit_transform(inputs)\n",
    "norminput = pd.DataFrame(norm, columns=['Year',\n",
    "                                        'Age',\n",
    "                                        'Present_Price',\n",
    "                                        'Kms_Driven',\n",
    "                                        'Fuel_Type',\n",
    "                                        'Seller_Type',\n",
    "                                        'Transmission',\n",
    "                                        'Owner'])\n",
    "inp = norminput.iloc[0].tolist()\n",
    "weight = regressor.coef_\n",
    "selling_price = regressor.intercept_ + (weight[0]*inp[1]) + (weight[1]*inp[2])+(weight[2]*inp[3])+(weight[3]*inp[4])+(weight[4]*inp[5])+(weight[5]*inp[6])+(weight[6]*(inp[1]**2)) + \\\n",
    "    (weight[7]*(inp[2]**2))+(weight[8]*(inp[3]**2))+(weight[9]*(inp[4]**2))+(weight[10]*(inp[5]**2)) + \\\n",
    "    (weight[11]*(inp[6]**2)) + (weight[12]*(inp[7]**2)) + \\\n",
    "    (weight[13]*np.sin(inp[3])+(weight[14]*inp[7]))\n",
    "if selling_price < 0:\n",
    "    selling_price = 0\n",
    "\n",
    "Scaler = preprocessing.MinMaxScaler(feature_range=(\n",
    "    df.Selling_Price.min(), df.Selling_Price.max()))\n",
    "renormal = np.array(\n",
    "    [DF.Selling_Price.min(), selling_price, DF.Selling_Price.max()])\n",
    "renormal = renormal.reshape(-1, 1)\n",
    "answer = Scaler.fit_transform(renormal)\n",
    "print(\"The selling_price is estimated : \", answer[1])\n",
    "\n"
   ]
  },
  {
   "cell_type": "markdown",
   "metadata": {
    "pycharm": {
     "name": "#%% md\n"
    }
   },
   "source": []
  }
 ],
 "metadata": {
  "interpreter": {
   "hash": "3b81e389f88e514c02b45f6a4b7d621cc8b7a9e9ba614648253a4a5e0e04d609"
  },
  "kernelspec": {
   "display_name": "Python 3 (ipykernel)",
   "language": "python",
   "name": "python3"
  },
  "language_info": {
   "codemirror_mode": {
    "name": "ipython",
    "version": 3
   },
   "file_extension": ".py",
   "mimetype": "text/x-python",
   "name": "python",
   "nbconvert_exporter": "python",
   "pygments_lexer": "ipython3",
   "version": "3.9.7"
  }
 },
 "nbformat": 4,
 "nbformat_minor": 2
}
